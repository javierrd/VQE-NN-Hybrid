{
 "cells": [
  {
   "cell_type": "code",
   "execution_count": 89,
   "metadata": {
    "ExecuteTime": {
     "end_time": "2020-10-27T17:41:23.798786Z",
     "start_time": "2020-10-27T17:41:23.791921Z"
    }
   },
   "outputs": [],
   "source": [
    "import pennylane as qml\n",
    "import tensorflow as tf\n",
    "import numpy as np"
   ]
  },
  {
   "cell_type": "code",
   "execution_count": 4,
   "metadata": {
    "ExecuteTime": {
     "end_time": "2020-10-27T10:31:36.310416Z",
     "start_time": "2020-10-27T10:31:36.304097Z"
    }
   },
   "outputs": [
    {
     "data": {
      "text/plain": [
       "'2.1.0'"
      ]
     },
     "execution_count": 4,
     "metadata": {},
     "output_type": "execute_result"
    }
   ],
   "source": [
    "tf.__version__"
   ]
  },
  {
   "cell_type": "code",
   "execution_count": 75,
   "metadata": {
    "ExecuteTime": {
     "end_time": "2020-10-27T17:28:53.283043Z",
     "start_time": "2020-10-27T17:28:53.264339Z"
    }
   },
   "outputs": [],
   "source": [
    "dev = qml.device(\"default.qubit\", wires = 2, analytic = False, shots = 100)\n",
    "N=2\n",
    "def circuit(theta):\n",
    "    qml.RX(theta[0], wires=0)\n",
    "    qml.RX(theta[1], wires=1)\n",
    "    qml.CNOT(wires=[0,1])\n",
    "    return qml.expval(qml.PauliZ(0))"
   ]
  },
  {
   "cell_type": "code",
   "execution_count": 76,
   "metadata": {
    "ExecuteTime": {
     "end_time": "2020-10-27T17:28:53.925682Z",
     "start_time": "2020-10-27T17:28:53.917977Z"
    }
   },
   "outputs": [],
   "source": [
    "theta = tf.Variable([0.5, 0.5], dtype=tf.float64)"
   ]
  },
  {
   "cell_type": "code",
   "execution_count": 78,
   "metadata": {
    "ExecuteTime": {
     "end_time": "2020-10-27T17:29:06.294753Z",
     "start_time": "2020-10-27T17:29:06.278931Z"
    }
   },
   "outputs": [
    {
     "data": {
      "text/plain": [
       "<tf.Tensor: shape=(), dtype=float64, numpy=0.9>"
      ]
     },
     "execution_count": 78,
     "metadata": {},
     "output_type": "execute_result"
    }
   ],
   "source": [
    "q_circuit = qml.QNode(circuit, dev, diff_method=\"parameter-shift\").to_tf()\n",
    "q_circuit(theta)"
   ]
  },
  {
   "cell_type": "code",
   "execution_count": 130,
   "metadata": {
    "ExecuteTime": {
     "end_time": "2020-10-27T17:48:54.260246Z",
     "start_time": "2020-10-27T17:48:53.771155Z"
    }
   },
   "outputs": [],
   "source": [
    "opt = tf.keras.optimizers.SGD(learning_rate = 0.1)\n",
    "\n",
    "for i in range(100):\n",
    "    with tf.GradientTape() as tape:\n",
    "        loss = q_circuit(theta)\n",
    "\n",
    "    grad = tape.gradient(loss, [theta])\n",
    "    opt.apply_gradients(zip(grad, [theta]))"
   ]
  },
  {
   "cell_type": "code",
   "execution_count": 80,
   "metadata": {
    "ExecuteTime": {
     "end_time": "2020-10-27T17:29:19.304991Z",
     "start_time": "2020-10-27T17:29:19.295155Z"
    }
   },
   "outputs": [
    {
     "data": {
      "text/plain": [
       "<tf.Tensor: shape=(), dtype=float64, numpy=-1.0>"
      ]
     },
     "execution_count": 80,
     "metadata": {},
     "output_type": "execute_result"
    }
   ],
   "source": [
    "q_circuit(theta)"
   ]
  },
  {
   "cell_type": "code",
   "execution_count": null,
   "metadata": {},
   "outputs": [],
   "source": []
  },
  {
   "cell_type": "markdown",
   "metadata": {},
   "source": [
    "## circuit with single shots (does not work)"
   ]
  },
  {
   "cell_type": "code",
   "execution_count": 246,
   "metadata": {
    "ExecuteTime": {
     "end_time": "2020-10-28T07:01:44.673457Z",
     "start_time": "2020-10-28T07:01:44.654207Z"
    }
   },
   "outputs": [],
   "source": [
    "wires = 4\n",
    "layers = 4\n",
    "dev2 = qml.device(\"default.qubit\", wires=wires)"
   ]
  },
  {
   "cell_type": "code",
   "execution_count": 247,
   "metadata": {
    "ExecuteTime": {
     "end_time": "2020-10-28T07:01:45.846682Z",
     "start_time": "2020-10-28T07:01:45.841070Z"
    }
   },
   "outputs": [],
   "source": [
    "def Barren_circuit(params, **kwargs):\n",
    "    for j in range(layers):\n",
    "        for i in range(wires):\n",
    "            qml.Rot(*params[j][i], wires=i)\n",
    "        for i in range(wires):\n",
    "            qml.CNOT(wires=[i, (i+1)%wires])"
   ]
  },
  {
   "cell_type": "code",
   "execution_count": 248,
   "metadata": {
    "ExecuteTime": {
     "end_time": "2020-10-28T07:01:46.909528Z",
     "start_time": "2020-10-28T07:01:46.903546Z"
    }
   },
   "outputs": [],
   "source": [
    "obs = [qml.PauliZ(i)@qml.PauliZ((i+1)%wires) for i in range(wires)]\n",
    "coeffs = np.random.rand(len(obs))\n",
    "H = qml.vqe.Hamiltonian(coeffs, obs)"
   ]
  },
  {
   "cell_type": "code",
   "execution_count": 249,
   "metadata": {
    "ExecuteTime": {
     "end_time": "2020-10-28T07:01:47.958828Z",
     "start_time": "2020-10-28T07:01:47.945305Z"
    }
   },
   "outputs": [],
   "source": [
    "cost = qml.VQECost(Barren_circuit, H, dev2, interface=\"tf\")"
   ]
  },
  {
   "cell_type": "code",
   "execution_count": 250,
   "metadata": {
    "ExecuteTime": {
     "end_time": "2020-10-28T07:01:48.775184Z",
     "start_time": "2020-10-28T07:01:48.695603Z"
    }
   },
   "outputs": [
    {
     "data": {
      "text/plain": [
       "<tf.Tensor: shape=(), dtype=float64, numpy=0.3870578696083652>"
      ]
     },
     "execution_count": 250,
     "metadata": {},
     "output_type": "execute_result"
    }
   ],
   "source": [
    "params = tf.Variable(np.random.rand(layers, wires, 3), dtype=tf.float64)\n",
    "\n",
    "cost(params)"
   ]
  },
  {
   "cell_type": "code",
   "execution_count": 251,
   "metadata": {
    "ExecuteTime": {
     "end_time": "2020-10-28T07:02:07.414857Z",
     "start_time": "2020-10-28T07:01:53.211336Z"
    }
   },
   "outputs": [
    {
     "name": "stdout",
     "output_type": "stream",
     "text": [
      "0.3870578696083652\n",
      "0.3475259725065135\n",
      "0.3071128835591124\n",
      "0.26608600811127414\n",
      "0.22471966801438548\n",
      "0.18329258346482505\n",
      "0.14208603234878456\n",
      "0.10138128186692835\n",
      "0.06145497002818362\n",
      "0.022571713995358005\n",
      "-0.015025842748037574\n",
      "-0.0511283750243612\n",
      "-0.08557079187507377\n"
     ]
    },
    {
     "ename": "KeyboardInterrupt",
     "evalue": "",
     "output_type": "error",
     "traceback": [
      "\u001b[0;31m---------------------------------------------------------------------------\u001b[0m",
      "\u001b[0;31mKeyboardInterrupt\u001b[0m                         Traceback (most recent call last)",
      "\u001b[0;32m<ipython-input-251-eabadedc6e73>\u001b[0m in \u001b[0;36m<module>\u001b[0;34m\u001b[0m\n\u001b[1;32m      6\u001b[0m \u001b[0;34m\u001b[0m\u001b[0m\n\u001b[1;32m      7\u001b[0m     \u001b[0mprint\u001b[0m\u001b[0;34m(\u001b[0m\u001b[0mloss\u001b[0m\u001b[0;34m.\u001b[0m\u001b[0mnumpy\u001b[0m\u001b[0;34m(\u001b[0m\u001b[0;34m)\u001b[0m\u001b[0;34m)\u001b[0m\u001b[0;34m\u001b[0m\u001b[0;34m\u001b[0m\u001b[0m\n\u001b[0;32m----> 8\u001b[0;31m     \u001b[0mgrad\u001b[0m \u001b[0;34m=\u001b[0m \u001b[0mtape\u001b[0m\u001b[0;34m.\u001b[0m\u001b[0mgradient\u001b[0m\u001b[0;34m(\u001b[0m\u001b[0mloss\u001b[0m\u001b[0;34m,\u001b[0m \u001b[0;34m[\u001b[0m\u001b[0mparams\u001b[0m\u001b[0;34m]\u001b[0m\u001b[0;34m)\u001b[0m\u001b[0;34m\u001b[0m\u001b[0;34m\u001b[0m\u001b[0m\n\u001b[0m\u001b[1;32m      9\u001b[0m     \u001b[0mopt\u001b[0m\u001b[0;34m.\u001b[0m\u001b[0mapply_gradients\u001b[0m\u001b[0;34m(\u001b[0m\u001b[0mzip\u001b[0m\u001b[0;34m(\u001b[0m\u001b[0mgrad\u001b[0m\u001b[0;34m,\u001b[0m \u001b[0;34m[\u001b[0m\u001b[0mparams\u001b[0m\u001b[0;34m]\u001b[0m\u001b[0;34m)\u001b[0m\u001b[0;34m)\u001b[0m\u001b[0;34m\u001b[0m\u001b[0;34m\u001b[0m\u001b[0m\n",
      "\u001b[0;32m~/anaconda3/envs/QC/lib/python3.7/site-packages/tensorflow_core/python/eager/backprop.py\u001b[0m in \u001b[0;36mgradient\u001b[0;34m(self, target, sources, output_gradients, unconnected_gradients)\u001b[0m\n\u001b[1;32m   1027\u001b[0m         \u001b[0moutput_gradients\u001b[0m\u001b[0;34m=\u001b[0m\u001b[0moutput_gradients\u001b[0m\u001b[0;34m,\u001b[0m\u001b[0;34m\u001b[0m\u001b[0;34m\u001b[0m\u001b[0m\n\u001b[1;32m   1028\u001b[0m         \u001b[0msources_raw\u001b[0m\u001b[0;34m=\u001b[0m\u001b[0mflat_sources_raw\u001b[0m\u001b[0;34m,\u001b[0m\u001b[0;34m\u001b[0m\u001b[0;34m\u001b[0m\u001b[0m\n\u001b[0;32m-> 1029\u001b[0;31m         unconnected_gradients=unconnected_gradients)\n\u001b[0m\u001b[1;32m   1030\u001b[0m \u001b[0;34m\u001b[0m\u001b[0m\n\u001b[1;32m   1031\u001b[0m     \u001b[0;32mif\u001b[0m \u001b[0;32mnot\u001b[0m \u001b[0mself\u001b[0m\u001b[0;34m.\u001b[0m\u001b[0m_persistent\u001b[0m\u001b[0;34m:\u001b[0m\u001b[0;34m\u001b[0m\u001b[0;34m\u001b[0m\u001b[0m\n",
      "\u001b[0;32m~/anaconda3/envs/QC/lib/python3.7/site-packages/tensorflow_core/python/eager/imperative_grad.py\u001b[0m in \u001b[0;36mimperative_grad\u001b[0;34m(tape, target, sources, output_gradients, sources_raw, unconnected_gradients)\u001b[0m\n\u001b[1;32m     75\u001b[0m       \u001b[0moutput_gradients\u001b[0m\u001b[0;34m,\u001b[0m\u001b[0;34m\u001b[0m\u001b[0;34m\u001b[0m\u001b[0m\n\u001b[1;32m     76\u001b[0m       \u001b[0msources_raw\u001b[0m\u001b[0;34m,\u001b[0m\u001b[0;34m\u001b[0m\u001b[0;34m\u001b[0m\u001b[0m\n\u001b[0;32m---> 77\u001b[0;31m       compat.as_str(unconnected_gradients.value))\n\u001b[0m",
      "\u001b[0;32m~/anaconda3/envs/QC/lib/python3.7/site-packages/tensorflow_core/python/ops/custom_gradient.py\u001b[0m in \u001b[0;36mactual_grad_fn\u001b[0;34m(*result_grads)\u001b[0m\n\u001b[1;32m    437\u001b[0m                          \"@custom_gradient grad_fn.\")\n\u001b[1;32m    438\u001b[0m     \u001b[0;32melse\u001b[0m\u001b[0;34m:\u001b[0m\u001b[0;34m\u001b[0m\u001b[0;34m\u001b[0m\u001b[0m\n\u001b[0;32m--> 439\u001b[0;31m       \u001b[0minput_grads\u001b[0m \u001b[0;34m=\u001b[0m \u001b[0mgrad_fn\u001b[0m\u001b[0;34m(\u001b[0m\u001b[0;34m*\u001b[0m\u001b[0mresult_grads\u001b[0m\u001b[0;34m)\u001b[0m\u001b[0;34m\u001b[0m\u001b[0;34m\u001b[0m\u001b[0m\n\u001b[0m\u001b[1;32m    440\u001b[0m       \u001b[0mvariable_grads\u001b[0m \u001b[0;34m=\u001b[0m \u001b[0;34m[\u001b[0m\u001b[0;34m]\u001b[0m\u001b[0;34m\u001b[0m\u001b[0;34m\u001b[0m\u001b[0m\n\u001b[1;32m    441\u001b[0m     \u001b[0mflat_grads\u001b[0m \u001b[0;34m=\u001b[0m \u001b[0mnest\u001b[0m\u001b[0;34m.\u001b[0m\u001b[0mflatten\u001b[0m\u001b[0;34m(\u001b[0m\u001b[0minput_grads\u001b[0m\u001b[0;34m)\u001b[0m\u001b[0;34m\u001b[0m\u001b[0;34m\u001b[0m\u001b[0m\n",
      "\u001b[0;32m~/anaconda3/envs/QC/lib/python3.7/site-packages/pennylane/interfaces/tf.py\u001b[0m in \u001b[0;36mgrad\u001b[0;34m(grad_output, **tfkwargs)\u001b[0m\n\u001b[1;32m    173\u001b[0m             \u001b[0mvariables\u001b[0m \u001b[0;34m=\u001b[0m \u001b[0mtfkwargs\u001b[0m\u001b[0;34m.\u001b[0m\u001b[0mget\u001b[0m\u001b[0;34m(\u001b[0m\u001b[0;34m\"variables\"\u001b[0m\u001b[0;34m,\u001b[0m \u001b[0;32mNone\u001b[0m\u001b[0;34m)\u001b[0m\u001b[0;34m\u001b[0m\u001b[0;34m\u001b[0m\u001b[0m\n\u001b[1;32m    174\u001b[0m             \u001b[0mqnode\u001b[0m\u001b[0;34m.\u001b[0m\u001b[0mset_trainable_args\u001b[0m\u001b[0;34m(\u001b[0m\u001b[0mtrainable_args\u001b[0m\u001b[0;34m)\u001b[0m\u001b[0;34m\u001b[0m\u001b[0;34m\u001b[0m\u001b[0m\n\u001b[0;32m--> 175\u001b[0;31m             \u001b[0mjacobian\u001b[0m \u001b[0;34m=\u001b[0m \u001b[0mqnode\u001b[0m\u001b[0;34m.\u001b[0m\u001b[0mjacobian\u001b[0m\u001b[0;34m(\u001b[0m\u001b[0margs\u001b[0m\u001b[0;34m,\u001b[0m \u001b[0mkwargs\u001b[0m\u001b[0;34m)\u001b[0m\u001b[0;34m\u001b[0m\u001b[0;34m\u001b[0m\u001b[0m\n\u001b[0m\u001b[1;32m    176\u001b[0m             \u001b[0mjacobian\u001b[0m \u001b[0;34m=\u001b[0m \u001b[0mtf\u001b[0m\u001b[0;34m.\u001b[0m\u001b[0mconstant\u001b[0m\u001b[0;34m(\u001b[0m\u001b[0mjacobian\u001b[0m\u001b[0;34m,\u001b[0m \u001b[0mdtype\u001b[0m\u001b[0;34m=\u001b[0m\u001b[0mdtype\u001b[0m\u001b[0;34m)\u001b[0m\u001b[0;34m\u001b[0m\u001b[0;34m\u001b[0m\u001b[0m\n\u001b[1;32m    177\u001b[0m \u001b[0;34m\u001b[0m\u001b[0m\n",
      "\u001b[0;32m~/anaconda3/envs/QC/lib/python3.7/site-packages/pennylane/qnodes/jacobian.py\u001b[0m in \u001b[0;36mjacobian\u001b[0;34m(self, args, kwargs, wrt, method, options)\u001b[0m\n\u001b[1;32m    324\u001b[0m                     \u001b[0mgrad\u001b[0m\u001b[0;34m[\u001b[0m\u001b[0;34m:\u001b[0m\u001b[0;34m,\u001b[0m \u001b[0mi\u001b[0m\u001b[0;34m]\u001b[0m \u001b[0;34m=\u001b[0m \u001b[0mself\u001b[0m\u001b[0;34m.\u001b[0m\u001b[0m_pd_analytic_var\u001b[0m\u001b[0;34m(\u001b[0m\u001b[0mk\u001b[0m\u001b[0;34m,\u001b[0m \u001b[0mflat_args\u001b[0m\u001b[0;34m,\u001b[0m \u001b[0mkwargs\u001b[0m\u001b[0;34m,\u001b[0m \u001b[0;34m**\u001b[0m\u001b[0moptions\u001b[0m\u001b[0;34m)\u001b[0m\u001b[0;34m\u001b[0m\u001b[0;34m\u001b[0m\u001b[0m\n\u001b[1;32m    325\u001b[0m                 \u001b[0;32melse\u001b[0m\u001b[0;34m:\u001b[0m\u001b[0;34m\u001b[0m\u001b[0;34m\u001b[0m\u001b[0m\n\u001b[0;32m--> 326\u001b[0;31m                     \u001b[0mgrad\u001b[0m\u001b[0;34m[\u001b[0m\u001b[0;34m:\u001b[0m\u001b[0;34m,\u001b[0m \u001b[0mi\u001b[0m\u001b[0;34m]\u001b[0m \u001b[0;34m=\u001b[0m \u001b[0mself\u001b[0m\u001b[0;34m.\u001b[0m\u001b[0m_pd_analytic\u001b[0m\u001b[0;34m(\u001b[0m\u001b[0mk\u001b[0m\u001b[0;34m,\u001b[0m \u001b[0mflat_args\u001b[0m\u001b[0;34m,\u001b[0m \u001b[0mkwargs\u001b[0m\u001b[0;34m,\u001b[0m \u001b[0;34m**\u001b[0m\u001b[0moptions\u001b[0m\u001b[0;34m)\u001b[0m\u001b[0;34m\u001b[0m\u001b[0;34m\u001b[0m\u001b[0m\n\u001b[0m\u001b[1;32m    327\u001b[0m             \u001b[0;32melif\u001b[0m \u001b[0mpar_method\u001b[0m \u001b[0;34m==\u001b[0m \u001b[0;34m\"F\"\u001b[0m\u001b[0;34m:\u001b[0m\u001b[0;34m\u001b[0m\u001b[0;34m\u001b[0m\u001b[0m\n\u001b[1;32m    328\u001b[0m                 \u001b[0mgrad\u001b[0m\u001b[0;34m[\u001b[0m\u001b[0;34m:\u001b[0m\u001b[0;34m,\u001b[0m \u001b[0mi\u001b[0m\u001b[0;34m]\u001b[0m \u001b[0;34m=\u001b[0m \u001b[0mself\u001b[0m\u001b[0;34m.\u001b[0m\u001b[0m_pd_finite_diff\u001b[0m\u001b[0;34m(\u001b[0m\u001b[0mk\u001b[0m\u001b[0;34m,\u001b[0m \u001b[0mflat_args\u001b[0m\u001b[0;34m,\u001b[0m \u001b[0mkwargs\u001b[0m\u001b[0;34m,\u001b[0m \u001b[0;34m**\u001b[0m\u001b[0moptions\u001b[0m\u001b[0;34m)\u001b[0m\u001b[0;34m\u001b[0m\u001b[0;34m\u001b[0m\u001b[0m\n",
      "\u001b[0;32m~/anaconda3/envs/QC/lib/python3.7/site-packages/pennylane/qnodes/qubit.py\u001b[0m in \u001b[0;36m_pd_analytic\u001b[0;34m(self, idx, args, kwargs, **options)\u001b[0m\n\u001b[1;32m    137\u001b[0m             \u001b[0;31m# evaluate the circuit at two points with shifted parameter values\u001b[0m\u001b[0;34m\u001b[0m\u001b[0;34m\u001b[0m\u001b[0;34m\u001b[0m\u001b[0m\n\u001b[1;32m    138\u001b[0m             \u001b[0my2\u001b[0m \u001b[0;34m=\u001b[0m \u001b[0mnp\u001b[0m\u001b[0;34m.\u001b[0m\u001b[0masarray\u001b[0m\u001b[0;34m(\u001b[0m\u001b[0mself\u001b[0m\u001b[0;34m.\u001b[0m\u001b[0mevaluate\u001b[0m\u001b[0;34m(\u001b[0m\u001b[0mshift_p1\u001b[0m\u001b[0;34m,\u001b[0m \u001b[0mkwargs\u001b[0m\u001b[0;34m)\u001b[0m\u001b[0;34m)\u001b[0m\u001b[0;34m\u001b[0m\u001b[0;34m\u001b[0m\u001b[0m\n\u001b[0;32m--> 139\u001b[0;31m             \u001b[0my1\u001b[0m \u001b[0;34m=\u001b[0m \u001b[0mnp\u001b[0m\u001b[0;34m.\u001b[0m\u001b[0masarray\u001b[0m\u001b[0;34m(\u001b[0m\u001b[0mself\u001b[0m\u001b[0;34m.\u001b[0m\u001b[0mevaluate\u001b[0m\u001b[0;34m(\u001b[0m\u001b[0mshift_p2\u001b[0m\u001b[0;34m,\u001b[0m \u001b[0mkwargs\u001b[0m\u001b[0;34m)\u001b[0m\u001b[0;34m)\u001b[0m\u001b[0;34m\u001b[0m\u001b[0;34m\u001b[0m\u001b[0m\n\u001b[0m\u001b[1;32m    140\u001b[0m             \u001b[0mpd\u001b[0m \u001b[0;34m+=\u001b[0m \u001b[0;34m(\u001b[0m\u001b[0my2\u001b[0m \u001b[0;34m-\u001b[0m \u001b[0my1\u001b[0m\u001b[0;34m)\u001b[0m \u001b[0;34m*\u001b[0m \u001b[0mmultiplier\u001b[0m\u001b[0;34m\u001b[0m\u001b[0;34m\u001b[0m\u001b[0m\n\u001b[1;32m    141\u001b[0m \u001b[0;34m\u001b[0m\u001b[0m\n",
      "\u001b[0;32m~/anaconda3/envs/QC/lib/python3.7/site-packages/pennylane/qnodes/base.py\u001b[0m in \u001b[0;36mevaluate\u001b[0;34m(self, args, kwargs)\u001b[0m\n\u001b[1;32m    826\u001b[0m         \u001b[0;32mif\u001b[0m \u001b[0misinstance\u001b[0m\u001b[0;34m(\u001b[0m\u001b[0mself\u001b[0m\u001b[0;34m.\u001b[0m\u001b[0mdevice\u001b[0m\u001b[0;34m,\u001b[0m \u001b[0mqml\u001b[0m\u001b[0;34m.\u001b[0m\u001b[0mQubitDevice\u001b[0m\u001b[0;34m)\u001b[0m\u001b[0;34m:\u001b[0m\u001b[0;34m\u001b[0m\u001b[0;34m\u001b[0m\u001b[0m\n\u001b[1;32m    827\u001b[0m             \u001b[0;31m# TODO: remove this if statement once all devices are ported to the QubitDevice API\u001b[0m\u001b[0;34m\u001b[0m\u001b[0;34m\u001b[0m\u001b[0;34m\u001b[0m\u001b[0m\n\u001b[0;32m--> 828\u001b[0;31m             \u001b[0mret\u001b[0m \u001b[0;34m=\u001b[0m \u001b[0mself\u001b[0m\u001b[0;34m.\u001b[0m\u001b[0mdevice\u001b[0m\u001b[0;34m.\u001b[0m\u001b[0mexecute\u001b[0m\u001b[0;34m(\u001b[0m\u001b[0mself\u001b[0m\u001b[0;34m.\u001b[0m\u001b[0mcircuit\u001b[0m\u001b[0;34m,\u001b[0m \u001b[0mreturn_native_type\u001b[0m\u001b[0;34m=\u001b[0m\u001b[0mtemp\u001b[0m\u001b[0;34m)\u001b[0m\u001b[0;34m\u001b[0m\u001b[0;34m\u001b[0m\u001b[0m\n\u001b[0m\u001b[1;32m    829\u001b[0m         \u001b[0;32melse\u001b[0m\u001b[0;34m:\u001b[0m\u001b[0;34m\u001b[0m\u001b[0;34m\u001b[0m\u001b[0m\n\u001b[1;32m    830\u001b[0m             ret = self.device.execute(\n",
      "\u001b[0;32m~/anaconda3/envs/QC/lib/python3.7/site-packages/pennylane/_qubit_device.py\u001b[0m in \u001b[0;36mexecute\u001b[0;34m(self, circuit, **kwargs)\u001b[0m\n\u001b[1;32m    177\u001b[0m         \u001b[0mself\u001b[0m\u001b[0;34m.\u001b[0m\u001b[0mcheck_validity\u001b[0m\u001b[0;34m(\u001b[0m\u001b[0mcircuit\u001b[0m\u001b[0;34m.\u001b[0m\u001b[0moperations\u001b[0m\u001b[0;34m,\u001b[0m \u001b[0mcircuit\u001b[0m\u001b[0;34m.\u001b[0m\u001b[0mobservables\u001b[0m\u001b[0;34m)\u001b[0m\u001b[0;34m\u001b[0m\u001b[0;34m\u001b[0m\u001b[0m\n\u001b[1;32m    178\u001b[0m \u001b[0;34m\u001b[0m\u001b[0m\n\u001b[0;32m--> 179\u001b[0;31m         \u001b[0mself\u001b[0m\u001b[0;34m.\u001b[0m\u001b[0m_circuit_hash\u001b[0m \u001b[0;34m=\u001b[0m \u001b[0mcircuit\u001b[0m\u001b[0;34m.\u001b[0m\u001b[0mhash\u001b[0m\u001b[0;34m\u001b[0m\u001b[0;34m\u001b[0m\u001b[0m\n\u001b[0m\u001b[1;32m    180\u001b[0m \u001b[0;34m\u001b[0m\u001b[0m\n\u001b[1;32m    181\u001b[0m         \u001b[0;31m# apply all circuit operations\u001b[0m\u001b[0;34m\u001b[0m\u001b[0;34m\u001b[0m\u001b[0;34m\u001b[0m\u001b[0m\n",
      "\u001b[0;32m~/anaconda3/envs/QC/lib/python3.7/site-packages/pennylane/circuit_graph.py\u001b[0m in \u001b[0;36mhash\u001b[0;34m(self)\u001b[0m\n\u001b[1;32m    251\u001b[0m             \u001b[0mint\u001b[0m\u001b[0;34m:\u001b[0m \u001b[0mthe\u001b[0m \u001b[0mhash\u001b[0m \u001b[0mof\u001b[0m \u001b[0mthe\u001b[0m \u001b[0mserialized\u001b[0m \u001b[0mquantum\u001b[0m \u001b[0mcircuit\u001b[0m \u001b[0mgraph\u001b[0m\u001b[0;34m\u001b[0m\u001b[0;34m\u001b[0m\u001b[0m\n\u001b[1;32m    252\u001b[0m         \"\"\"\n\u001b[0;32m--> 253\u001b[0;31m         \u001b[0;32mreturn\u001b[0m \u001b[0mhash\u001b[0m\u001b[0;34m(\u001b[0m\u001b[0mself\u001b[0m\u001b[0;34m.\u001b[0m\u001b[0mserialize\u001b[0m\u001b[0;34m(\u001b[0m\u001b[0;34m)\u001b[0m\u001b[0;34m)\u001b[0m\u001b[0;34m\u001b[0m\u001b[0;34m\u001b[0m\u001b[0m\n\u001b[0m\u001b[1;32m    254\u001b[0m \u001b[0;34m\u001b[0m\u001b[0m\n\u001b[1;32m    255\u001b[0m     \u001b[0;32mdef\u001b[0m \u001b[0mto_openqasm\u001b[0m\u001b[0;34m(\u001b[0m\u001b[0mself\u001b[0m\u001b[0;34m,\u001b[0m \u001b[0mrotations\u001b[0m\u001b[0;34m=\u001b[0m\u001b[0;32mTrue\u001b[0m\u001b[0;34m)\u001b[0m\u001b[0;34m:\u001b[0m\u001b[0;34m\u001b[0m\u001b[0;34m\u001b[0m\u001b[0m\n",
      "\u001b[0;32m~/anaconda3/envs/QC/lib/python3.7/site-packages/pennylane/circuit_graph.py\u001b[0m in \u001b[0;36mserialize\u001b[0;34m(self)\u001b[0m\n\u001b[1;32m    213\u001b[0m \u001b[0;34m\u001b[0m\u001b[0m\n\u001b[1;32m    214\u001b[0m         \u001b[0;32mfor\u001b[0m \u001b[0mop\u001b[0m \u001b[0;32min\u001b[0m \u001b[0mself\u001b[0m\u001b[0;34m.\u001b[0m\u001b[0moperations_in_order\u001b[0m\u001b[0;34m:\u001b[0m\u001b[0;34m\u001b[0m\u001b[0;34m\u001b[0m\u001b[0m\n\u001b[0;32m--> 215\u001b[0;31m             \u001b[0mserialization_string\u001b[0m \u001b[0;34m+=\u001b[0m \u001b[0mop\u001b[0m\u001b[0;34m.\u001b[0m\u001b[0mname\u001b[0m\u001b[0;34m\u001b[0m\u001b[0;34m\u001b[0m\u001b[0m\n\u001b[0m\u001b[1;32m    216\u001b[0m \u001b[0;34m\u001b[0m\u001b[0m\n\u001b[1;32m    217\u001b[0m             \u001b[0;32mfor\u001b[0m \u001b[0mparam\u001b[0m \u001b[0;32min\u001b[0m \u001b[0mop\u001b[0m\u001b[0;34m.\u001b[0m\u001b[0mdata\u001b[0m\u001b[0;34m:\u001b[0m\u001b[0;34m\u001b[0m\u001b[0;34m\u001b[0m\u001b[0m\n",
      "\u001b[0;32m~/anaconda3/envs/QC/lib/python3.7/site-packages/pennylane/operation.py\u001b[0m in \u001b[0;36mname\u001b[0;34m(self)\u001b[0m\n\u001b[1;32m    684\u001b[0m         \"\"\"Get and set the name of the operator.\n\u001b[1;32m    685\u001b[0m         \"\"\"\n\u001b[0;32m--> 686\u001b[0;31m         \u001b[0;32mreturn\u001b[0m \u001b[0mself\u001b[0m\u001b[0;34m.\u001b[0m\u001b[0m_name\u001b[0m \u001b[0;34m+\u001b[0m \u001b[0mOperation\u001b[0m\u001b[0;34m.\u001b[0m\u001b[0mstring_for_inverse\u001b[0m \u001b[0;32mif\u001b[0m \u001b[0mself\u001b[0m\u001b[0;34m.\u001b[0m\u001b[0minverse\u001b[0m \u001b[0;32melse\u001b[0m \u001b[0mself\u001b[0m\u001b[0;34m.\u001b[0m\u001b[0m_name\u001b[0m\u001b[0;34m\u001b[0m\u001b[0;34m\u001b[0m\u001b[0m\n\u001b[0m\u001b[1;32m    687\u001b[0m \u001b[0;34m\u001b[0m\u001b[0m\n\u001b[1;32m    688\u001b[0m     \u001b[0;32mdef\u001b[0m \u001b[0m__init__\u001b[0m\u001b[0;34m(\u001b[0m\u001b[0mself\u001b[0m\u001b[0;34m,\u001b[0m \u001b[0;34m*\u001b[0m\u001b[0mparams\u001b[0m\u001b[0;34m,\u001b[0m \u001b[0mwires\u001b[0m\u001b[0;34m=\u001b[0m\u001b[0;32mNone\u001b[0m\u001b[0;34m,\u001b[0m \u001b[0mdo_queue\u001b[0m\u001b[0;34m=\u001b[0m\u001b[0;32mTrue\u001b[0m\u001b[0;34m)\u001b[0m\u001b[0;34m:\u001b[0m\u001b[0;34m\u001b[0m\u001b[0;34m\u001b[0m\u001b[0m\n",
      "\u001b[0;32m~/anaconda3/envs/QC/lib/python3.7/site-packages/pennylane/operation.py\u001b[0m in \u001b[0;36minverse\u001b[0;34m(self)\u001b[0m\n\u001b[1;32m    624\u001b[0m         \u001b[0;32mreturn\u001b[0m \u001b[0;34m[\u001b[0m\u001b[0;32mNone\u001b[0m\u001b[0;34m,\u001b[0m \u001b[0;36m1\u001b[0m\u001b[0;34m]\u001b[0m\u001b[0;34m\u001b[0m\u001b[0;34m\u001b[0m\u001b[0m\n\u001b[1;32m    625\u001b[0m \u001b[0;34m\u001b[0m\u001b[0m\n\u001b[0;32m--> 626\u001b[0;31m     \u001b[0;34m@\u001b[0m\u001b[0mproperty\u001b[0m\u001b[0;34m\u001b[0m\u001b[0;34m\u001b[0m\u001b[0m\n\u001b[0m\u001b[1;32m    627\u001b[0m     \u001b[0;32mdef\u001b[0m \u001b[0minverse\u001b[0m\u001b[0;34m(\u001b[0m\u001b[0mself\u001b[0m\u001b[0;34m)\u001b[0m\u001b[0;34m:\u001b[0m\u001b[0;34m\u001b[0m\u001b[0;34m\u001b[0m\u001b[0m\n\u001b[1;32m    628\u001b[0m         \"\"\"Boolean determining if the inverse of the operation was requested.\n",
      "\u001b[0;31mKeyboardInterrupt\u001b[0m: "
     ]
    }
   ],
   "source": [
    "opt = tf.keras.optimizers.SGD(learning_rate = 0.1)\n",
    "\n",
    "for i in range(100):\n",
    "    with tf.GradientTape() as tape:\n",
    "        loss = cost(params)\n",
    "\n",
    "    print(loss.numpy())\n",
    "    grad = tape.gradient(loss, [params])\n",
    "    opt.apply_gradients(zip(grad, [params]))"
   ]
  },
  {
   "cell_type": "code",
   "execution_count": 190,
   "metadata": {
    "ExecuteTime": {
     "end_time": "2020-10-27T18:11:00.029944Z",
     "start_time": "2020-10-27T18:11:00.005495Z"
    }
   },
   "outputs": [
    {
     "data": {
      "text/plain": [
       "<tf.Tensor: shape=(), dtype=float64, numpy=-2.2714678319254347>"
      ]
     },
     "execution_count": 190,
     "metadata": {},
     "output_type": "execute_result"
    }
   ],
   "source": [
    "cost(params)"
   ]
  },
  {
   "cell_type": "markdown",
   "metadata": {},
   "source": [
    "## Gradients with samples"
   ]
  },
  {
   "cell_type": "code",
   "execution_count": 407,
   "metadata": {
    "ExecuteTime": {
     "end_time": "2020-10-28T15:08:43.777796Z",
     "start_time": "2020-10-28T15:08:43.771408Z"
    }
   },
   "outputs": [],
   "source": [
    "dev = qml.device(\"default.qubit\", wires = 2, analytic = False, shots = 100)\n",
    "N=2\n",
    "def circuit(theta):\n",
    "    qml.Hadamard(wires=0)\n",
    "    qml.RX(theta[0], wires=0)\n",
    "    qml.RX(theta[1], wires=1)\n",
    "    qml.CNOT(wires=[0,1])\n",
    "    return qml.expval(qml.PauliZ(0))"
   ]
  },
  {
   "cell_type": "code",
   "execution_count": 408,
   "metadata": {
    "ExecuteTime": {
     "end_time": "2020-10-28T15:08:44.166559Z",
     "start_time": "2020-10-28T15:08:44.159885Z"
    }
   },
   "outputs": [],
   "source": [
    "theta = tf.Variable([0.5, 0.5], dtype=tf.float64)"
   ]
  },
  {
   "cell_type": "code",
   "execution_count": 409,
   "metadata": {
    "ExecuteTime": {
     "end_time": "2020-10-28T15:08:44.559017Z",
     "start_time": "2020-10-28T15:08:44.547251Z"
    }
   },
   "outputs": [
    {
     "data": {
      "text/plain": [
       "<tf.Tensor: shape=(), dtype=float64, numpy=-0.14>"
      ]
     },
     "execution_count": 409,
     "metadata": {},
     "output_type": "execute_result"
    }
   ],
   "source": [
    "q_circuit = qml.QNode(circuit, dev).to_tf()\n",
    "q_circuit(theta)"
   ]
  },
  {
   "cell_type": "code",
   "execution_count": 410,
   "metadata": {
    "ExecuteTime": {
     "end_time": "2020-10-28T15:08:45.025267Z",
     "start_time": "2020-10-28T15:08:45.016341Z"
    }
   },
   "outputs": [
    {
     "data": {
      "text/plain": [
       "<tf.Tensor: shape=(), dtype=float64, numpy=0.2>"
      ]
     },
     "execution_count": 410,
     "metadata": {},
     "output_type": "execute_result"
    }
   ],
   "source": [
    "tf.reduce_mean(loss)"
   ]
  },
  {
   "cell_type": "code",
   "execution_count": 411,
   "metadata": {
    "ExecuteTime": {
     "end_time": "2020-10-28T15:08:45.788736Z",
     "start_time": "2020-10-28T15:08:45.616670Z"
    }
   },
   "outputs": [
    {
     "data": {
      "text/plain": [
       "<tf.Tensor: shape=(), dtype=float64, numpy=-1.3399999999999994>"
      ]
     },
     "execution_count": 411,
     "metadata": {},
     "output_type": "execute_result"
    }
   ],
   "source": [
    "l = 0\n",
    "for i in range(100):\n",
    "    l += q_circuit(theta)\n",
    "    \n",
    "l"
   ]
  },
  {
   "cell_type": "code",
   "execution_count": 412,
   "metadata": {
    "ExecuteTime": {
     "end_time": "2020-10-28T15:08:47.282969Z",
     "start_time": "2020-10-28T15:08:46.538185Z"
    }
   },
   "outputs": [
    {
     "name": "stdout",
     "output_type": "stream",
     "text": [
      "-0.04\n",
      "[<tf.Tensor: shape=(2,), dtype=float64, numpy=array([0.  , 0.06])>]\n",
      "<tf.Variable 'Variable:0' shape=(2,) dtype=float64, numpy=array([0.5  , 0.494])>\n",
      "-0.12\n",
      "[<tf.Tensor: shape=(2,), dtype=float64, numpy=array([-0.09, -0.02])>]\n",
      "<tf.Variable 'Variable:0' shape=(2,) dtype=float64, numpy=array([0.509, 0.496])>\n",
      "-0.04\n",
      "[<tf.Tensor: shape=(2,), dtype=float64, numpy=array([-0.01, -0.02])>]\n",
      "<tf.Variable 'Variable:0' shape=(2,) dtype=float64, numpy=array([0.51 , 0.498])>\n",
      "0.14\n",
      "[<tf.Tensor: shape=(2,), dtype=float64, numpy=array([-0.03,  0.04])>]\n",
      "<tf.Variable 'Variable:0' shape=(2,) dtype=float64, numpy=array([0.513, 0.494])>\n",
      "-0.12\n",
      "[<tf.Tensor: shape=(2,), dtype=float64, numpy=array([-0.01,  0.01])>]\n",
      "<tf.Variable 'Variable:0' shape=(2,) dtype=float64, numpy=array([0.514, 0.493])>\n",
      "-0.24\n",
      "[<tf.Tensor: shape=(2,), dtype=float64, numpy=array([-0.09, -0.06])>]\n",
      "<tf.Variable 'Variable:0' shape=(2,) dtype=float64, numpy=array([0.523, 0.499])>\n",
      "0.0\n",
      "[<tf.Tensor: shape=(2,), dtype=float64, numpy=array([-0.08,  0.03])>]\n",
      "<tf.Variable 'Variable:0' shape=(2,) dtype=float64, numpy=array([0.531, 0.496])>\n",
      "0.14\n",
      "[<tf.Tensor: shape=(2,), dtype=float64, numpy=array([0.11, 0.12])>]\n",
      "<tf.Variable 'Variable:0' shape=(2,) dtype=float64, numpy=array([0.52 , 0.484])>\n",
      "0.18\n",
      "[<tf.Tensor: shape=(2,), dtype=float64, numpy=array([-0.04, -0.11])>]\n",
      "<tf.Variable 'Variable:0' shape=(2,) dtype=float64, numpy=array([0.524, 0.495])>\n",
      "0.08\n",
      "[<tf.Tensor: shape=(2,), dtype=float64, numpy=array([ 0.03, -0.13])>]\n",
      "<tf.Variable 'Variable:0' shape=(2,) dtype=float64, numpy=array([0.521, 0.508])>\n",
      "0.08\n",
      "[<tf.Tensor: shape=(2,), dtype=float64, numpy=array([-0.03, -0.07])>]\n",
      "<tf.Variable 'Variable:0' shape=(2,) dtype=float64, numpy=array([0.524, 0.515])>\n",
      "-0.18\n",
      "[<tf.Tensor: shape=(2,), dtype=float64, numpy=array([ 0.06, -0.14])>]\n",
      "<tf.Variable 'Variable:0' shape=(2,) dtype=float64, numpy=array([0.518, 0.529])>\n",
      "-0.1\n",
      "[<tf.Tensor: shape=(2,), dtype=float64, numpy=array([-0.01,  0.03])>]\n",
      "<tf.Variable 'Variable:0' shape=(2,) dtype=float64, numpy=array([0.519, 0.526])>\n",
      "-0.08\n",
      "[<tf.Tensor: shape=(2,), dtype=float64, numpy=array([0.17, 0.02])>]\n",
      "<tf.Variable 'Variable:0' shape=(2,) dtype=float64, numpy=array([0.502, 0.524])>\n",
      "0.0\n",
      "[<tf.Tensor: shape=(2,), dtype=float64, numpy=array([-0.05,  0.09])>]\n",
      "<tf.Variable 'Variable:0' shape=(2,) dtype=float64, numpy=array([0.507, 0.515])>\n",
      "-0.02\n",
      "[<tf.Tensor: shape=(2,), dtype=float64, numpy=array([ 0.04, -0.01])>]\n",
      "<tf.Variable 'Variable:0' shape=(2,) dtype=float64, numpy=array([0.503, 0.516])>\n",
      "0.06\n",
      "[<tf.Tensor: shape=(2,), dtype=float64, numpy=array([ 0.06, -0.06])>]\n",
      "<tf.Variable 'Variable:0' shape=(2,) dtype=float64, numpy=array([0.497, 0.522])>\n",
      "-0.16\n",
      "[<tf.Tensor: shape=(2,), dtype=float64, numpy=array([ 0.01, -0.08])>]\n",
      "<tf.Variable 'Variable:0' shape=(2,) dtype=float64, numpy=array([0.496, 0.53 ])>\n",
      "0.06\n",
      "[<tf.Tensor: shape=(2,), dtype=float64, numpy=array([ 0.02, -0.03])>]\n",
      "<tf.Variable 'Variable:0' shape=(2,) dtype=float64, numpy=array([0.494, 0.533])>\n",
      "0.14\n",
      "[<tf.Tensor: shape=(2,), dtype=float64, numpy=array([0.05, 0.03])>]\n",
      "<tf.Variable 'Variable:0' shape=(2,) dtype=float64, numpy=array([0.489, 0.53 ])>\n",
      "0.18\n",
      "[<tf.Tensor: shape=(2,), dtype=float64, numpy=array([-0.03,  0.07])>]\n",
      "<tf.Variable 'Variable:0' shape=(2,) dtype=float64, numpy=array([0.492, 0.523])>\n",
      "-0.06\n",
      "[<tf.Tensor: shape=(2,), dtype=float64, numpy=array([-0.09,  0.13])>]\n",
      "<tf.Variable 'Variable:0' shape=(2,) dtype=float64, numpy=array([0.501, 0.51 ])>\n",
      "-0.02\n",
      "[<tf.Tensor: shape=(2,), dtype=float64, numpy=array([-0.13,  0.1 ])>]\n",
      "<tf.Variable 'Variable:0' shape=(2,) dtype=float64, numpy=array([0.514, 0.5  ])>\n",
      "-0.04\n",
      "[<tf.Tensor: shape=(2,), dtype=float64, numpy=array([-0.01, -0.02])>]\n",
      "<tf.Variable 'Variable:0' shape=(2,) dtype=float64, numpy=array([0.515, 0.502])>\n",
      "-0.18\n",
      "[<tf.Tensor: shape=(2,), dtype=float64, numpy=array([ 0.  , -0.08])>]\n",
      "<tf.Variable 'Variable:0' shape=(2,) dtype=float64, numpy=array([0.515, 0.51 ])>\n",
      "0.04\n",
      "[<tf.Tensor: shape=(2,), dtype=float64, numpy=array([0.01, 0.01])>]\n",
      "<tf.Variable 'Variable:0' shape=(2,) dtype=float64, numpy=array([0.514, 0.509])>\n",
      "0.2\n",
      "[<tf.Tensor: shape=(2,), dtype=float64, numpy=array([ 0.07, -0.12])>]\n",
      "<tf.Variable 'Variable:0' shape=(2,) dtype=float64, numpy=array([0.507, 0.521])>\n",
      "0.18\n",
      "[<tf.Tensor: shape=(2,), dtype=float64, numpy=array([ 0.04, -0.04])>]\n",
      "<tf.Variable 'Variable:0' shape=(2,) dtype=float64, numpy=array([0.503, 0.525])>\n",
      "0.0\n",
      "[<tf.Tensor: shape=(2,), dtype=float64, numpy=array([-0.11, -0.06])>]\n",
      "<tf.Variable 'Variable:0' shape=(2,) dtype=float64, numpy=array([0.514, 0.531])>\n",
      "-0.04\n",
      "[<tf.Tensor: shape=(2,), dtype=float64, numpy=array([0.06, 0.02])>]\n",
      "<tf.Variable 'Variable:0' shape=(2,) dtype=float64, numpy=array([0.508, 0.529])>\n",
      "0.06\n",
      "[<tf.Tensor: shape=(2,), dtype=float64, numpy=array([-0.04, -0.02])>]\n",
      "<tf.Variable 'Variable:0' shape=(2,) dtype=float64, numpy=array([0.512, 0.531])>\n",
      "0.04\n",
      "[<tf.Tensor: shape=(2,), dtype=float64, numpy=array([0.11, 0.04])>]\n",
      "<tf.Variable 'Variable:0' shape=(2,) dtype=float64, numpy=array([0.501, 0.527])>\n",
      "-0.06\n",
      "[<tf.Tensor: shape=(2,), dtype=float64, numpy=array([ 0.03, -0.02])>]\n",
      "<tf.Variable 'Variable:0' shape=(2,) dtype=float64, numpy=array([0.498, 0.529])>\n",
      "0.0\n",
      "[<tf.Tensor: shape=(2,), dtype=float64, numpy=array([ 0.08, -0.02])>]\n",
      "<tf.Variable 'Variable:0' shape=(2,) dtype=float64, numpy=array([0.49 , 0.531])>\n",
      "0.14\n",
      "[<tf.Tensor: shape=(2,), dtype=float64, numpy=array([-0.11, -0.01])>]\n",
      "<tf.Variable 'Variable:0' shape=(2,) dtype=float64, numpy=array([0.501, 0.532])>\n",
      "-0.06\n",
      "[<tf.Tensor: shape=(2,), dtype=float64, numpy=array([-0.08,  0.  ])>]\n",
      "<tf.Variable 'Variable:0' shape=(2,) dtype=float64, numpy=array([0.509, 0.532])>\n",
      "-0.02\n",
      "[<tf.Tensor: shape=(2,), dtype=float64, numpy=array([-0.01, -0.04])>]\n",
      "<tf.Variable 'Variable:0' shape=(2,) dtype=float64, numpy=array([0.51 , 0.536])>\n",
      "0.06\n",
      "[<tf.Tensor: shape=(2,), dtype=float64, numpy=array([-0.05, -0.1 ])>]\n",
      "<tf.Variable 'Variable:0' shape=(2,) dtype=float64, numpy=array([0.515, 0.546])>\n",
      "-0.2\n",
      "[<tf.Tensor: shape=(2,), dtype=float64, numpy=array([-0.02, -0.02])>]\n",
      "<tf.Variable 'Variable:0' shape=(2,) dtype=float64, numpy=array([0.517, 0.548])>\n",
      "0.1\n",
      "[<tf.Tensor: shape=(2,), dtype=float64, numpy=array([-0.06, -0.06])>]\n",
      "<tf.Variable 'Variable:0' shape=(2,) dtype=float64, numpy=array([0.523, 0.554])>\n",
      "-0.16\n",
      "[<tf.Tensor: shape=(2,), dtype=float64, numpy=array([-0.04,  0.02])>]\n",
      "<tf.Variable 'Variable:0' shape=(2,) dtype=float64, numpy=array([0.527, 0.552])>\n",
      "-0.04\n",
      "[<tf.Tensor: shape=(2,), dtype=float64, numpy=array([-0.07, -0.06])>]\n",
      "<tf.Variable 'Variable:0' shape=(2,) dtype=float64, numpy=array([0.534, 0.558])>\n",
      "-0.08\n",
      "[<tf.Tensor: shape=(2,), dtype=float64, numpy=array([-0.01, -0.02])>]\n",
      "<tf.Variable 'Variable:0' shape=(2,) dtype=float64, numpy=array([0.535, 0.56 ])>\n",
      "-0.06\n",
      "[<tf.Tensor: shape=(2,), dtype=float64, numpy=array([-0.02, -0.06])>]\n",
      "<tf.Variable 'Variable:0' shape=(2,) dtype=float64, numpy=array([0.537, 0.566])>\n",
      "0.16\n",
      "[<tf.Tensor: shape=(2,), dtype=float64, numpy=array([-0.02,  0.04])>]\n",
      "<tf.Variable 'Variable:0' shape=(2,) dtype=float64, numpy=array([0.539, 0.562])>\n",
      "-0.14\n",
      "[<tf.Tensor: shape=(2,), dtype=float64, numpy=array([-0.06,  0.08])>]\n",
      "<tf.Variable 'Variable:0' shape=(2,) dtype=float64, numpy=array([0.545, 0.554])>\n",
      "0.02\n",
      "[<tf.Tensor: shape=(2,), dtype=float64, numpy=array([-0.01,  0.01])>]\n",
      "<tf.Variable 'Variable:0' shape=(2,) dtype=float64, numpy=array([0.546, 0.553])>\n",
      "-0.14\n",
      "[<tf.Tensor: shape=(2,), dtype=float64, numpy=array([ 0.02, -0.16])>]\n",
      "<tf.Variable 'Variable:0' shape=(2,) dtype=float64, numpy=array([0.544, 0.569])>\n",
      "0.16\n",
      "[<tf.Tensor: shape=(2,), dtype=float64, numpy=array([ 0.14, -0.07])>]\n",
      "<tf.Variable 'Variable:0' shape=(2,) dtype=float64, numpy=array([0.53 , 0.576])>\n",
      "-0.04\n",
      "[<tf.Tensor: shape=(2,), dtype=float64, numpy=array([-0.03, -0.02])>]\n",
      "<tf.Variable 'Variable:0' shape=(2,) dtype=float64, numpy=array([0.533, 0.578])>\n",
      "-0.08\n",
      "[<tf.Tensor: shape=(2,), dtype=float64, numpy=array([ 0.09, -0.05])>]\n",
      "<tf.Variable 'Variable:0' shape=(2,) dtype=float64, numpy=array([0.524, 0.583])>\n",
      "0.1\n",
      "[<tf.Tensor: shape=(2,), dtype=float64, numpy=array([-0.07,  0.08])>]\n",
      "<tf.Variable 'Variable:0' shape=(2,) dtype=float64, numpy=array([0.531, 0.575])>\n",
      "0.04\n",
      "[<tf.Tensor: shape=(2,), dtype=float64, numpy=array([ 0.02, -0.05])>]\n",
      "<tf.Variable 'Variable:0' shape=(2,) dtype=float64, numpy=array([0.529, 0.58 ])>\n",
      "0.02\n",
      "[<tf.Tensor: shape=(2,), dtype=float64, numpy=array([0.01, 0.05])>]\n",
      "<tf.Variable 'Variable:0' shape=(2,) dtype=float64, numpy=array([0.528, 0.575])>\n",
      "-0.08\n"
     ]
    },
    {
     "name": "stdout",
     "output_type": "stream",
     "text": [
      "[<tf.Tensor: shape=(2,), dtype=float64, numpy=array([-0.04,  0.14])>]\n",
      "<tf.Variable 'Variable:0' shape=(2,) dtype=float64, numpy=array([0.532, 0.561])>\n",
      "-0.02\n",
      "[<tf.Tensor: shape=(2,), dtype=float64, numpy=array([0.09, 0.03])>]\n",
      "<tf.Variable 'Variable:0' shape=(2,) dtype=float64, numpy=array([0.523, 0.558])>\n",
      "0.1\n",
      "[<tf.Tensor: shape=(2,), dtype=float64, numpy=array([0.  , 0.13])>]\n",
      "<tf.Variable 'Variable:0' shape=(2,) dtype=float64, numpy=array([0.523, 0.545])>\n",
      "0.08\n",
      "[<tf.Tensor: shape=(2,), dtype=float64, numpy=array([0.07, 0.02])>]\n",
      "<tf.Variable 'Variable:0' shape=(2,) dtype=float64, numpy=array([0.516, 0.543])>\n",
      "-0.02\n",
      "[<tf.Tensor: shape=(2,), dtype=float64, numpy=array([-0.03, -0.02])>]\n",
      "<tf.Variable 'Variable:0' shape=(2,) dtype=float64, numpy=array([0.519, 0.545])>\n",
      "-0.18\n",
      "[<tf.Tensor: shape=(2,), dtype=float64, numpy=array([ 0.05, -0.06])>]\n",
      "<tf.Variable 'Variable:0' shape=(2,) dtype=float64, numpy=array([0.514, 0.551])>\n",
      "0.0\n",
      "[<tf.Tensor: shape=(2,), dtype=float64, numpy=array([0.07, 0.07])>]\n",
      "<tf.Variable 'Variable:0' shape=(2,) dtype=float64, numpy=array([0.507, 0.544])>\n",
      "0.0\n",
      "[<tf.Tensor: shape=(2,), dtype=float64, numpy=array([-0.09,  0.25])>]\n",
      "<tf.Variable 'Variable:0' shape=(2,) dtype=float64, numpy=array([0.516, 0.519])>\n",
      "0.0\n",
      "[<tf.Tensor: shape=(2,), dtype=float64, numpy=array([-0.05,  0.  ])>]\n",
      "<tf.Variable 'Variable:0' shape=(2,) dtype=float64, numpy=array([0.521, 0.519])>\n",
      "-0.1\n",
      "[<tf.Tensor: shape=(2,), dtype=float64, numpy=array([ 0.02, -0.06])>]\n",
      "<tf.Variable 'Variable:0' shape=(2,) dtype=float64, numpy=array([0.519, 0.525])>\n",
      "0.0\n",
      "[<tf.Tensor: shape=(2,), dtype=float64, numpy=array([-0.03, -0.07])>]\n",
      "<tf.Variable 'Variable:0' shape=(2,) dtype=float64, numpy=array([0.522, 0.532])>\n",
      "0.06\n",
      "[<tf.Tensor: shape=(2,), dtype=float64, numpy=array([0.1 , 0.08])>]\n",
      "<tf.Variable 'Variable:0' shape=(2,) dtype=float64, numpy=array([0.512, 0.524])>\n",
      "-0.08\n",
      "[<tf.Tensor: shape=(2,), dtype=float64, numpy=array([-0.02, -0.02])>]\n",
      "<tf.Variable 'Variable:0' shape=(2,) dtype=float64, numpy=array([0.514, 0.526])>\n",
      "-0.18\n",
      "[<tf.Tensor: shape=(2,), dtype=float64, numpy=array([-0.02, -0.07])>]\n",
      "<tf.Variable 'Variable:0' shape=(2,) dtype=float64, numpy=array([0.516, 0.533])>\n",
      "0.0\n",
      "[<tf.Tensor: shape=(2,), dtype=float64, numpy=array([ 0.08, -0.01])>]\n",
      "<tf.Variable 'Variable:0' shape=(2,) dtype=float64, numpy=array([0.508, 0.534])>\n",
      "0.06\n",
      "[<tf.Tensor: shape=(2,), dtype=float64, numpy=array([-0.09,  0.04])>]\n",
      "<tf.Variable 'Variable:0' shape=(2,) dtype=float64, numpy=array([0.517, 0.53 ])>\n",
      "-0.04\n",
      "[<tf.Tensor: shape=(2,), dtype=float64, numpy=array([-0.07,  0.07])>]\n",
      "<tf.Variable 'Variable:0' shape=(2,) dtype=float64, numpy=array([0.524, 0.523])>\n",
      "0.0\n",
      "[<tf.Tensor: shape=(2,), dtype=float64, numpy=array([ 0.01, -0.08])>]\n",
      "<tf.Variable 'Variable:0' shape=(2,) dtype=float64, numpy=array([0.523, 0.531])>\n",
      "0.02\n",
      "[<tf.Tensor: shape=(2,), dtype=float64, numpy=array([-0.06, -0.05])>]\n",
      "<tf.Variable 'Variable:0' shape=(2,) dtype=float64, numpy=array([0.529, 0.536])>\n",
      "-0.08\n",
      "[<tf.Tensor: shape=(2,), dtype=float64, numpy=array([ 0.  , -0.04])>]\n",
      "<tf.Variable 'Variable:0' shape=(2,) dtype=float64, numpy=array([0.529, 0.54 ])>\n",
      "0.0\n",
      "[<tf.Tensor: shape=(2,), dtype=float64, numpy=array([-0.15, -0.01])>]\n",
      "<tf.Variable 'Variable:0' shape=(2,) dtype=float64, numpy=array([0.544, 0.541])>\n",
      "-0.04\n",
      "[<tf.Tensor: shape=(2,), dtype=float64, numpy=array([-0.01,  0.21])>]\n",
      "<tf.Variable 'Variable:0' shape=(2,) dtype=float64, numpy=array([0.545, 0.52 ])>\n",
      "0.02\n",
      "[<tf.Tensor: shape=(2,), dtype=float64, numpy=array([-0.01,  0.03])>]\n",
      "<tf.Variable 'Variable:0' shape=(2,) dtype=float64, numpy=array([0.546, 0.517])>\n",
      "-0.08\n",
      "[<tf.Tensor: shape=(2,), dtype=float64, numpy=array([0., 0.])>]\n",
      "<tf.Variable 'Variable:0' shape=(2,) dtype=float64, numpy=array([0.546, 0.517])>\n",
      "-0.04\n",
      "[<tf.Tensor: shape=(2,), dtype=float64, numpy=array([ 0.01, -0.03])>]\n",
      "<tf.Variable 'Variable:0' shape=(2,) dtype=float64, numpy=array([0.545, 0.52 ])>\n",
      "0.0\n",
      "[<tf.Tensor: shape=(2,), dtype=float64, numpy=array([-0.06,  0.14])>]\n",
      "<tf.Variable 'Variable:0' shape=(2,) dtype=float64, numpy=array([0.551, 0.506])>\n",
      "-0.02\n",
      "[<tf.Tensor: shape=(2,), dtype=float64, numpy=array([0.1 , 0.03])>]\n",
      "<tf.Variable 'Variable:0' shape=(2,) dtype=float64, numpy=array([0.541, 0.503])>\n",
      "0.12\n",
      "[<tf.Tensor: shape=(2,), dtype=float64, numpy=array([0.05, 0.1 ])>]\n",
      "<tf.Variable 'Variable:0' shape=(2,) dtype=float64, numpy=array([0.536, 0.493])>\n",
      "0.02\n",
      "[<tf.Tensor: shape=(2,), dtype=float64, numpy=array([0.08, 0.03])>]\n",
      "<tf.Variable 'Variable:0' shape=(2,) dtype=float64, numpy=array([0.528, 0.49 ])>\n",
      "-0.04\n",
      "[<tf.Tensor: shape=(2,), dtype=float64, numpy=array([-0.01, -0.03])>]\n",
      "<tf.Variable 'Variable:0' shape=(2,) dtype=float64, numpy=array([0.529, 0.493])>\n",
      "0.06\n",
      "[<tf.Tensor: shape=(2,), dtype=float64, numpy=array([-0.12, -0.11])>]\n",
      "<tf.Variable 'Variable:0' shape=(2,) dtype=float64, numpy=array([0.541, 0.504])>\n",
      "-0.1\n",
      "[<tf.Tensor: shape=(2,), dtype=float64, numpy=array([-0.01,  0.  ])>]\n",
      "<tf.Variable 'Variable:0' shape=(2,) dtype=float64, numpy=array([0.542, 0.504])>\n",
      "0.1\n",
      "[<tf.Tensor: shape=(2,), dtype=float64, numpy=array([-0.06,  0.06])>]\n",
      "<tf.Variable 'Variable:0' shape=(2,) dtype=float64, numpy=array([0.548, 0.498])>\n",
      "0.02\n",
      "[<tf.Tensor: shape=(2,), dtype=float64, numpy=array([-0.05,  0.12])>]\n",
      "<tf.Variable 'Variable:0' shape=(2,) dtype=float64, numpy=array([0.553, 0.486])>\n",
      "0.18\n",
      "[<tf.Tensor: shape=(2,), dtype=float64, numpy=array([-0.17,  0.07])>]\n",
      "<tf.Variable 'Variable:0' shape=(2,) dtype=float64, numpy=array([0.57 , 0.479])>\n",
      "-0.04\n",
      "[<tf.Tensor: shape=(2,), dtype=float64, numpy=array([0.06, 0.08])>]\n",
      "<tf.Variable 'Variable:0' shape=(2,) dtype=float64, numpy=array([0.564, 0.471])>\n",
      "0.06\n",
      "[<tf.Tensor: shape=(2,), dtype=float64, numpy=array([-0.1 , -0.08])>]\n",
      "<tf.Variable 'Variable:0' shape=(2,) dtype=float64, numpy=array([0.574, 0.479])>\n",
      "0.1\n",
      "[<tf.Tensor: shape=(2,), dtype=float64, numpy=array([0.05, 0.  ])>]\n",
      "<tf.Variable 'Variable:0' shape=(2,) dtype=float64, numpy=array([0.569, 0.479])>\n",
      "-0.12\n",
      "[<tf.Tensor: shape=(2,), dtype=float64, numpy=array([-0.02, -0.07])>]\n",
      "<tf.Variable 'Variable:0' shape=(2,) dtype=float64, numpy=array([0.571, 0.486])>\n",
      "-0.04\n",
      "[<tf.Tensor: shape=(2,), dtype=float64, numpy=array([0.03, 0.01])>]\n",
      "<tf.Variable 'Variable:0' shape=(2,) dtype=float64, numpy=array([0.568, 0.485])>\n",
      "0.0\n",
      "[<tf.Tensor: shape=(2,), dtype=float64, numpy=array([-0.12,  0.06])>]\n",
      "<tf.Variable 'Variable:0' shape=(2,) dtype=float64, numpy=array([0.58 , 0.479])>\n",
      "0.0\n",
      "[<tf.Tensor: shape=(2,), dtype=float64, numpy=array([ 0.1 , -0.01])>]\n",
      "<tf.Variable 'Variable:0' shape=(2,) dtype=float64, numpy=array([0.57, 0.48])>\n",
      "0.0\n",
      "[<tf.Tensor: shape=(2,), dtype=float64, numpy=array([ 0.1 , -0.02])>]\n",
      "<tf.Variable 'Variable:0' shape=(2,) dtype=float64, numpy=array([0.56 , 0.482])>\n",
      "-0.16\n",
      "[<tf.Tensor: shape=(2,), dtype=float64, numpy=array([ 0.09, -0.09])>]\n",
      "<tf.Variable 'Variable:0' shape=(2,) dtype=float64, numpy=array([0.551, 0.491])>\n",
      "-0.06\n",
      "[<tf.Tensor: shape=(2,), dtype=float64, numpy=array([-0.1 , -0.01])>]\n",
      "<tf.Variable 'Variable:0' shape=(2,) dtype=float64, numpy=array([0.561, 0.492])>\n",
      "-0.1\n",
      "[<tf.Tensor: shape=(2,), dtype=float64, numpy=array([0.06, 0.01])>]\n",
      "<tf.Variable 'Variable:0' shape=(2,) dtype=float64, numpy=array([0.555, 0.491])>\n"
     ]
    }
   ],
   "source": [
    "opt = tf.keras.optimizers.SGD(learning_rate = 0.1)\n",
    "\n",
    "for i in range(100):\n",
    "    loss = 0\n",
    "    with tf.GradientTape() as tape:\n",
    "        loss =   q_circuit(theta)\n",
    "    \n",
    "    print(loss.numpy())\n",
    "    grad = tape.gradient(loss, [theta])\n",
    "    print(grad)\n",
    "    opt.apply_gradients(zip(grad, [theta]))\n",
    "    print(theta)"
   ]
  }
 ],
 "metadata": {
  "kernelspec": {
   "display_name": "Python 3",
   "language": "python",
   "name": "python3"
  },
  "language_info": {
   "codemirror_mode": {
    "name": "ipython",
    "version": 3
   },
   "file_extension": ".py",
   "mimetype": "text/x-python",
   "name": "python",
   "nbconvert_exporter": "python",
   "pygments_lexer": "ipython3",
   "version": "3.7.6"
  },
  "toc": {
   "base_numbering": 1,
   "nav_menu": {},
   "number_sections": true,
   "sideBar": true,
   "skip_h1_title": false,
   "title_cell": "Table of Contents",
   "title_sidebar": "Contents",
   "toc_cell": false,
   "toc_position": {},
   "toc_section_display": true,
   "toc_window_display": false
  },
  "varInspector": {
   "cols": {
    "lenName": 16,
    "lenType": 16,
    "lenVar": 40
   },
   "kernels_config": {
    "python": {
     "delete_cmd_postfix": "",
     "delete_cmd_prefix": "del ",
     "library": "var_list.py",
     "varRefreshCmd": "print(var_dic_list())"
    },
    "r": {
     "delete_cmd_postfix": ") ",
     "delete_cmd_prefix": "rm(",
     "library": "var_list.r",
     "varRefreshCmd": "cat(var_dic_list()) "
    }
   },
   "types_to_exclude": [
    "module",
    "function",
    "builtin_function_or_method",
    "instance",
    "_Feature"
   ],
   "window_display": false
  }
 },
 "nbformat": 4,
 "nbformat_minor": 4
}
