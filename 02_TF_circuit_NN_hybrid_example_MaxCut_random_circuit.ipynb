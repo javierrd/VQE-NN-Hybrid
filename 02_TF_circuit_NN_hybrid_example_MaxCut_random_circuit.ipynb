{
 "cells": [
  {
   "cell_type": "code",
   "execution_count": 1,
   "metadata": {
    "ExecuteTime": {
     "end_time": "2020-10-28T09:50:07.245174Z",
     "start_time": "2020-10-28T09:49:55.944572Z"
    }
   },
   "outputs": [],
   "source": [
    "import pennylane as qml\n",
    "import tensorflow as tf"
   ]
  },
  {
   "cell_type": "markdown",
   "metadata": {},
   "source": [
    "## We use here the Barren Plateau circuit from\n",
    "\n",
    "https://pennylane.ai/qml/demos/tutorial_barren_plateaus.html\n",
    "\n",
    "and\n",
    "\n",
    "https://arxiv.org/pdf/1803.11173.pdf"
   ]
  },
  {
   "cell_type": "code",
   "execution_count": 119,
   "metadata": {
    "ExecuteTime": {
     "end_time": "2020-10-28T10:36:10.818718Z",
     "start_time": "2020-10-28T10:36:10.804315Z"
    }
   },
   "outputs": [],
   "source": [
    "wires = 4\n",
    "layers = 8\n",
    "dev1 = qml.device(\"default.qubit\", wires = wires)\n",
    "dev2 = qml.device(\"default.qubit\", wires = wires)\n",
    "gate_set = [qml.RX, qml.RY, qml.RZ]\n",
    "\n",
    "target = np.ones((2**wires,))*(1/np.sqrt(2**wires))\n",
    "rho_target = np.outer(target ,np.conj(target).T)\n",
    "\n",
    "def circuit_VQE(params, wires, num_qubits=4, random_gate_sequence=None, layers=1, rho_target=None):\n",
    "    for i in range(num_qubits):\n",
    "        qml.RY(np.pi/4, wires=i)\n",
    "    for j in range(layers):\n",
    "        for i in range(num_qubits):\n",
    "            random_gate_sequence[j][i](params[j][i], wires=i)\n",
    "        for i in range(num_qubits):\n",
    "            qml.CZ(wires = [i, (i+1)%num_qubits])\n",
    "\n",
    "def circuit_with_NN(params, num_qubits=4, random_gate_sequence=None, layers=1, rho_target=None):\n",
    "    for i in range(num_qubits):\n",
    "        qml.RY(np.pi/4, wires=i)\n",
    "    for j in range(layers):\n",
    "        for i in range(num_qubits):\n",
    "            random_gate_sequence[j][i](params[j][i], wires=i)\n",
    "        for i in range(num_qubits):\n",
    "            qml.CZ(wires = [i, (i+1)%num_qubits])\n",
    "    wirelist = [i for i in range(num_qubits)]\n",
    "    return [qml.sample(qml.PauliZ(i)) for i in range(num_qubits)]"
   ]
  },
  {
   "cell_type": "code",
   "execution_count": 120,
   "metadata": {
    "ExecuteTime": {
     "end_time": "2020-10-28T10:36:11.572333Z",
     "start_time": "2020-10-28T10:36:11.561542Z"
    }
   },
   "outputs": [],
   "source": [
    "obs = [qml.PauliZ(i)@qml.PauliZ((i+1)%wires) for i in range(wires)]\n",
    "coeffs = np.random.rand(len(obs))\n",
    "\n",
    "gate_sequence = [[np.random.choice(gate_set) for i in range(wires)] for j in range(layers)]\n",
    "\n",
    "H = qml.vqe.Hamiltonian(coeffs, obs)\n",
    "\n",
    "cost = qml.VQECost(circuit_VQE, H, dev1, interface=\"tf\")"
   ]
  },
  {
   "cell_type": "code",
   "execution_count": 207,
   "metadata": {
    "ExecuteTime": {
     "end_time": "2020-10-28T12:37:19.477886Z",
     "start_time": "2020-10-28T12:37:19.353833Z"
    }
   },
   "outputs": [
    {
     "data": {
      "text/plain": [
       "<tf.Tensor: shape=(), dtype=float64, numpy=0.4427791558650135>"
      ]
     },
     "execution_count": 207,
     "metadata": {},
     "output_type": "execute_result"
    }
   ],
   "source": [
    "params1 = tf.Variable(np.random.rand(layers, wires), dtype=tf.float64)\n",
    "cost(params1, random_gate_sequence=gate_sequence, layers=layers, rho_target=rho_target, num_qubits=wires)"
   ]
  },
  {
   "cell_type": "code",
   "execution_count": 208,
   "metadata": {
    "ExecuteTime": {
     "end_time": "2020-10-28T12:37:42.470756Z",
     "start_time": "2020-10-28T12:37:20.650611Z"
    }
   },
   "outputs": [
    {
     "name": "stdout",
     "output_type": "stream",
     "text": [
      "0.4427791558650135\n",
      "0.3663463635701687\n",
      "0.28514701458761404\n",
      "0.1973828379872602\n",
      "0.10080201744768129\n",
      "-0.007291985714743501\n",
      "-0.12977256461054\n",
      "-0.2690135307939723\n",
      "-0.42580165819913407\n",
      "-0.5982324640316483\n",
      "-0.7813968774132899\n",
      "-0.9684638739135927\n",
      "-1.1526737129147264\n",
      "-1.3288279890662484\n"
     ]
    },
    {
     "ename": "KeyboardInterrupt",
     "evalue": "",
     "output_type": "error",
     "traceback": [
      "\u001b[0;31m---------------------------------------------------------------------------\u001b[0m",
      "\u001b[0;31mKeyboardInterrupt\u001b[0m                         Traceback (most recent call last)",
      "\u001b[0;32m<ipython-input-208-8bf2bc465e23>\u001b[0m in \u001b[0;36m<module>\u001b[0;34m\u001b[0m\n\u001b[1;32m      6\u001b[0m \u001b[0;34m\u001b[0m\u001b[0m\n\u001b[1;32m      7\u001b[0m     \u001b[0mprint\u001b[0m\u001b[0;34m(\u001b[0m\u001b[0mloss\u001b[0m\u001b[0;34m.\u001b[0m\u001b[0mnumpy\u001b[0m\u001b[0;34m(\u001b[0m\u001b[0;34m)\u001b[0m\u001b[0;34m)\u001b[0m\u001b[0;34m\u001b[0m\u001b[0;34m\u001b[0m\u001b[0m\n\u001b[0;32m----> 8\u001b[0;31m     \u001b[0mgrad\u001b[0m \u001b[0;34m=\u001b[0m \u001b[0mtape\u001b[0m\u001b[0;34m.\u001b[0m\u001b[0mgradient\u001b[0m\u001b[0;34m(\u001b[0m\u001b[0mloss\u001b[0m\u001b[0;34m,\u001b[0m \u001b[0;34m[\u001b[0m\u001b[0mparams1\u001b[0m\u001b[0;34m]\u001b[0m\u001b[0;34m)\u001b[0m\u001b[0;34m\u001b[0m\u001b[0;34m\u001b[0m\u001b[0m\n\u001b[0m\u001b[1;32m      9\u001b[0m     \u001b[0mopt\u001b[0m\u001b[0;34m.\u001b[0m\u001b[0mapply_gradients\u001b[0m\u001b[0;34m(\u001b[0m\u001b[0mzip\u001b[0m\u001b[0;34m(\u001b[0m\u001b[0mgrad\u001b[0m\u001b[0;34m,\u001b[0m \u001b[0;34m[\u001b[0m\u001b[0mparams1\u001b[0m\u001b[0;34m]\u001b[0m\u001b[0;34m)\u001b[0m\u001b[0;34m)\u001b[0m\u001b[0;34m\u001b[0m\u001b[0;34m\u001b[0m\u001b[0m\n",
      "\u001b[0;32m~/anaconda3/envs/QC/lib/python3.7/site-packages/tensorflow_core/python/eager/backprop.py\u001b[0m in \u001b[0;36mgradient\u001b[0;34m(self, target, sources, output_gradients, unconnected_gradients)\u001b[0m\n\u001b[1;32m   1027\u001b[0m         \u001b[0moutput_gradients\u001b[0m\u001b[0;34m=\u001b[0m\u001b[0moutput_gradients\u001b[0m\u001b[0;34m,\u001b[0m\u001b[0;34m\u001b[0m\u001b[0;34m\u001b[0m\u001b[0m\n\u001b[1;32m   1028\u001b[0m         \u001b[0msources_raw\u001b[0m\u001b[0;34m=\u001b[0m\u001b[0mflat_sources_raw\u001b[0m\u001b[0;34m,\u001b[0m\u001b[0;34m\u001b[0m\u001b[0;34m\u001b[0m\u001b[0m\n\u001b[0;32m-> 1029\u001b[0;31m         unconnected_gradients=unconnected_gradients)\n\u001b[0m\u001b[1;32m   1030\u001b[0m \u001b[0;34m\u001b[0m\u001b[0m\n\u001b[1;32m   1031\u001b[0m     \u001b[0;32mif\u001b[0m \u001b[0;32mnot\u001b[0m \u001b[0mself\u001b[0m\u001b[0;34m.\u001b[0m\u001b[0m_persistent\u001b[0m\u001b[0;34m:\u001b[0m\u001b[0;34m\u001b[0m\u001b[0;34m\u001b[0m\u001b[0m\n",
      "\u001b[0;32m~/anaconda3/envs/QC/lib/python3.7/site-packages/tensorflow_core/python/eager/imperative_grad.py\u001b[0m in \u001b[0;36mimperative_grad\u001b[0;34m(tape, target, sources, output_gradients, sources_raw, unconnected_gradients)\u001b[0m\n\u001b[1;32m     75\u001b[0m       \u001b[0moutput_gradients\u001b[0m\u001b[0;34m,\u001b[0m\u001b[0;34m\u001b[0m\u001b[0;34m\u001b[0m\u001b[0m\n\u001b[1;32m     76\u001b[0m       \u001b[0msources_raw\u001b[0m\u001b[0;34m,\u001b[0m\u001b[0;34m\u001b[0m\u001b[0;34m\u001b[0m\u001b[0m\n\u001b[0;32m---> 77\u001b[0;31m       compat.as_str(unconnected_gradients.value))\n\u001b[0m",
      "\u001b[0;32m~/anaconda3/envs/QC/lib/python3.7/site-packages/tensorflow_core/python/ops/custom_gradient.py\u001b[0m in \u001b[0;36mactual_grad_fn\u001b[0;34m(*result_grads)\u001b[0m\n\u001b[1;32m    437\u001b[0m                          \"@custom_gradient grad_fn.\")\n\u001b[1;32m    438\u001b[0m     \u001b[0;32melse\u001b[0m\u001b[0;34m:\u001b[0m\u001b[0;34m\u001b[0m\u001b[0;34m\u001b[0m\u001b[0m\n\u001b[0;32m--> 439\u001b[0;31m       \u001b[0minput_grads\u001b[0m \u001b[0;34m=\u001b[0m \u001b[0mgrad_fn\u001b[0m\u001b[0;34m(\u001b[0m\u001b[0;34m*\u001b[0m\u001b[0mresult_grads\u001b[0m\u001b[0;34m)\u001b[0m\u001b[0;34m\u001b[0m\u001b[0;34m\u001b[0m\u001b[0m\n\u001b[0m\u001b[1;32m    440\u001b[0m       \u001b[0mvariable_grads\u001b[0m \u001b[0;34m=\u001b[0m \u001b[0;34m[\u001b[0m\u001b[0;34m]\u001b[0m\u001b[0;34m\u001b[0m\u001b[0;34m\u001b[0m\u001b[0m\n\u001b[1;32m    441\u001b[0m     \u001b[0mflat_grads\u001b[0m \u001b[0;34m=\u001b[0m \u001b[0mnest\u001b[0m\u001b[0;34m.\u001b[0m\u001b[0mflatten\u001b[0m\u001b[0;34m(\u001b[0m\u001b[0minput_grads\u001b[0m\u001b[0;34m)\u001b[0m\u001b[0;34m\u001b[0m\u001b[0;34m\u001b[0m\u001b[0m\n",
      "\u001b[0;32m~/anaconda3/envs/QC/lib/python3.7/site-packages/pennylane/interfaces/tf.py\u001b[0m in \u001b[0;36mgrad\u001b[0;34m(grad_output, **tfkwargs)\u001b[0m\n\u001b[1;32m    173\u001b[0m             \u001b[0mvariables\u001b[0m \u001b[0;34m=\u001b[0m \u001b[0mtfkwargs\u001b[0m\u001b[0;34m.\u001b[0m\u001b[0mget\u001b[0m\u001b[0;34m(\u001b[0m\u001b[0;34m\"variables\"\u001b[0m\u001b[0;34m,\u001b[0m \u001b[0;32mNone\u001b[0m\u001b[0;34m)\u001b[0m\u001b[0;34m\u001b[0m\u001b[0;34m\u001b[0m\u001b[0m\n\u001b[1;32m    174\u001b[0m             \u001b[0mqnode\u001b[0m\u001b[0;34m.\u001b[0m\u001b[0mset_trainable_args\u001b[0m\u001b[0;34m(\u001b[0m\u001b[0mtrainable_args\u001b[0m\u001b[0;34m)\u001b[0m\u001b[0;34m\u001b[0m\u001b[0;34m\u001b[0m\u001b[0m\n\u001b[0;32m--> 175\u001b[0;31m             \u001b[0mjacobian\u001b[0m \u001b[0;34m=\u001b[0m \u001b[0mqnode\u001b[0m\u001b[0;34m.\u001b[0m\u001b[0mjacobian\u001b[0m\u001b[0;34m(\u001b[0m\u001b[0margs\u001b[0m\u001b[0;34m,\u001b[0m \u001b[0mkwargs\u001b[0m\u001b[0;34m)\u001b[0m\u001b[0;34m\u001b[0m\u001b[0;34m\u001b[0m\u001b[0m\n\u001b[0m\u001b[1;32m    176\u001b[0m             \u001b[0mjacobian\u001b[0m \u001b[0;34m=\u001b[0m \u001b[0mtf\u001b[0m\u001b[0;34m.\u001b[0m\u001b[0mconstant\u001b[0m\u001b[0;34m(\u001b[0m\u001b[0mjacobian\u001b[0m\u001b[0;34m,\u001b[0m \u001b[0mdtype\u001b[0m\u001b[0;34m=\u001b[0m\u001b[0mdtype\u001b[0m\u001b[0;34m)\u001b[0m\u001b[0;34m\u001b[0m\u001b[0;34m\u001b[0m\u001b[0m\n\u001b[1;32m    177\u001b[0m \u001b[0;34m\u001b[0m\u001b[0m\n",
      "\u001b[0;32m~/anaconda3/envs/QC/lib/python3.7/site-packages/pennylane/qnodes/jacobian.py\u001b[0m in \u001b[0;36mjacobian\u001b[0;34m(self, args, kwargs, wrt, method, options)\u001b[0m\n\u001b[1;32m    324\u001b[0m                     \u001b[0mgrad\u001b[0m\u001b[0;34m[\u001b[0m\u001b[0;34m:\u001b[0m\u001b[0;34m,\u001b[0m \u001b[0mi\u001b[0m\u001b[0;34m]\u001b[0m \u001b[0;34m=\u001b[0m \u001b[0mself\u001b[0m\u001b[0;34m.\u001b[0m\u001b[0m_pd_analytic_var\u001b[0m\u001b[0;34m(\u001b[0m\u001b[0mk\u001b[0m\u001b[0;34m,\u001b[0m \u001b[0mflat_args\u001b[0m\u001b[0;34m,\u001b[0m \u001b[0mkwargs\u001b[0m\u001b[0;34m,\u001b[0m \u001b[0;34m**\u001b[0m\u001b[0moptions\u001b[0m\u001b[0;34m)\u001b[0m\u001b[0;34m\u001b[0m\u001b[0;34m\u001b[0m\u001b[0m\n\u001b[1;32m    325\u001b[0m                 \u001b[0;32melse\u001b[0m\u001b[0;34m:\u001b[0m\u001b[0;34m\u001b[0m\u001b[0;34m\u001b[0m\u001b[0m\n\u001b[0;32m--> 326\u001b[0;31m                     \u001b[0mgrad\u001b[0m\u001b[0;34m[\u001b[0m\u001b[0;34m:\u001b[0m\u001b[0;34m,\u001b[0m \u001b[0mi\u001b[0m\u001b[0;34m]\u001b[0m \u001b[0;34m=\u001b[0m \u001b[0mself\u001b[0m\u001b[0;34m.\u001b[0m\u001b[0m_pd_analytic\u001b[0m\u001b[0;34m(\u001b[0m\u001b[0mk\u001b[0m\u001b[0;34m,\u001b[0m \u001b[0mflat_args\u001b[0m\u001b[0;34m,\u001b[0m \u001b[0mkwargs\u001b[0m\u001b[0;34m,\u001b[0m \u001b[0;34m**\u001b[0m\u001b[0moptions\u001b[0m\u001b[0;34m)\u001b[0m\u001b[0;34m\u001b[0m\u001b[0;34m\u001b[0m\u001b[0m\n\u001b[0m\u001b[1;32m    327\u001b[0m             \u001b[0;32melif\u001b[0m \u001b[0mpar_method\u001b[0m \u001b[0;34m==\u001b[0m \u001b[0;34m\"F\"\u001b[0m\u001b[0;34m:\u001b[0m\u001b[0;34m\u001b[0m\u001b[0;34m\u001b[0m\u001b[0m\n\u001b[1;32m    328\u001b[0m                 \u001b[0mgrad\u001b[0m\u001b[0;34m[\u001b[0m\u001b[0;34m:\u001b[0m\u001b[0;34m,\u001b[0m \u001b[0mi\u001b[0m\u001b[0;34m]\u001b[0m \u001b[0;34m=\u001b[0m \u001b[0mself\u001b[0m\u001b[0;34m.\u001b[0m\u001b[0m_pd_finite_diff\u001b[0m\u001b[0;34m(\u001b[0m\u001b[0mk\u001b[0m\u001b[0;34m,\u001b[0m \u001b[0mflat_args\u001b[0m\u001b[0;34m,\u001b[0m \u001b[0mkwargs\u001b[0m\u001b[0;34m,\u001b[0m \u001b[0;34m**\u001b[0m\u001b[0moptions\u001b[0m\u001b[0;34m)\u001b[0m\u001b[0;34m\u001b[0m\u001b[0;34m\u001b[0m\u001b[0m\n",
      "\u001b[0;32m~/anaconda3/envs/QC/lib/python3.7/site-packages/pennylane/qnodes/qubit.py\u001b[0m in \u001b[0;36m_pd_analytic\u001b[0;34m(self, idx, args, kwargs, **options)\u001b[0m\n\u001b[1;32m    136\u001b[0m \u001b[0;34m\u001b[0m\u001b[0m\n\u001b[1;32m    137\u001b[0m             \u001b[0;31m# evaluate the circuit at two points with shifted parameter values\u001b[0m\u001b[0;34m\u001b[0m\u001b[0;34m\u001b[0m\u001b[0;34m\u001b[0m\u001b[0m\n\u001b[0;32m--> 138\u001b[0;31m             \u001b[0my2\u001b[0m \u001b[0;34m=\u001b[0m \u001b[0mnp\u001b[0m\u001b[0;34m.\u001b[0m\u001b[0masarray\u001b[0m\u001b[0;34m(\u001b[0m\u001b[0mself\u001b[0m\u001b[0;34m.\u001b[0m\u001b[0mevaluate\u001b[0m\u001b[0;34m(\u001b[0m\u001b[0mshift_p1\u001b[0m\u001b[0;34m,\u001b[0m \u001b[0mkwargs\u001b[0m\u001b[0;34m)\u001b[0m\u001b[0;34m)\u001b[0m\u001b[0;34m\u001b[0m\u001b[0;34m\u001b[0m\u001b[0m\n\u001b[0m\u001b[1;32m    139\u001b[0m             \u001b[0my1\u001b[0m \u001b[0;34m=\u001b[0m \u001b[0mnp\u001b[0m\u001b[0;34m.\u001b[0m\u001b[0masarray\u001b[0m\u001b[0;34m(\u001b[0m\u001b[0mself\u001b[0m\u001b[0;34m.\u001b[0m\u001b[0mevaluate\u001b[0m\u001b[0;34m(\u001b[0m\u001b[0mshift_p2\u001b[0m\u001b[0;34m,\u001b[0m \u001b[0mkwargs\u001b[0m\u001b[0;34m)\u001b[0m\u001b[0;34m)\u001b[0m\u001b[0;34m\u001b[0m\u001b[0;34m\u001b[0m\u001b[0m\n\u001b[1;32m    140\u001b[0m             \u001b[0mpd\u001b[0m \u001b[0;34m+=\u001b[0m \u001b[0;34m(\u001b[0m\u001b[0my2\u001b[0m \u001b[0;34m-\u001b[0m \u001b[0my1\u001b[0m\u001b[0;34m)\u001b[0m \u001b[0;34m*\u001b[0m \u001b[0mmultiplier\u001b[0m\u001b[0;34m\u001b[0m\u001b[0;34m\u001b[0m\u001b[0m\n",
      "\u001b[0;32m~/anaconda3/envs/QC/lib/python3.7/site-packages/pennylane/qnodes/base.py\u001b[0m in \u001b[0;36mevaluate\u001b[0;34m(self, args, kwargs)\u001b[0m\n\u001b[1;32m    826\u001b[0m         \u001b[0;32mif\u001b[0m \u001b[0misinstance\u001b[0m\u001b[0;34m(\u001b[0m\u001b[0mself\u001b[0m\u001b[0;34m.\u001b[0m\u001b[0mdevice\u001b[0m\u001b[0;34m,\u001b[0m \u001b[0mqml\u001b[0m\u001b[0;34m.\u001b[0m\u001b[0mQubitDevice\u001b[0m\u001b[0;34m)\u001b[0m\u001b[0;34m:\u001b[0m\u001b[0;34m\u001b[0m\u001b[0;34m\u001b[0m\u001b[0m\n\u001b[1;32m    827\u001b[0m             \u001b[0;31m# TODO: remove this if statement once all devices are ported to the QubitDevice API\u001b[0m\u001b[0;34m\u001b[0m\u001b[0;34m\u001b[0m\u001b[0;34m\u001b[0m\u001b[0m\n\u001b[0;32m--> 828\u001b[0;31m             \u001b[0mret\u001b[0m \u001b[0;34m=\u001b[0m \u001b[0mself\u001b[0m\u001b[0;34m.\u001b[0m\u001b[0mdevice\u001b[0m\u001b[0;34m.\u001b[0m\u001b[0mexecute\u001b[0m\u001b[0;34m(\u001b[0m\u001b[0mself\u001b[0m\u001b[0;34m.\u001b[0m\u001b[0mcircuit\u001b[0m\u001b[0;34m,\u001b[0m \u001b[0mreturn_native_type\u001b[0m\u001b[0;34m=\u001b[0m\u001b[0mtemp\u001b[0m\u001b[0;34m)\u001b[0m\u001b[0;34m\u001b[0m\u001b[0;34m\u001b[0m\u001b[0m\n\u001b[0m\u001b[1;32m    829\u001b[0m         \u001b[0;32melse\u001b[0m\u001b[0;34m:\u001b[0m\u001b[0;34m\u001b[0m\u001b[0;34m\u001b[0m\u001b[0m\n\u001b[1;32m    830\u001b[0m             ret = self.device.execute(\n",
      "\u001b[0;32m~/anaconda3/envs/QC/lib/python3.7/site-packages/pennylane/_qubit_device.py\u001b[0m in \u001b[0;36mexecute\u001b[0;34m(self, circuit, **kwargs)\u001b[0m\n\u001b[1;32m    180\u001b[0m \u001b[0;34m\u001b[0m\u001b[0m\n\u001b[1;32m    181\u001b[0m         \u001b[0;31m# apply all circuit operations\u001b[0m\u001b[0;34m\u001b[0m\u001b[0;34m\u001b[0m\u001b[0;34m\u001b[0m\u001b[0m\n\u001b[0;32m--> 182\u001b[0;31m         \u001b[0mself\u001b[0m\u001b[0;34m.\u001b[0m\u001b[0mapply\u001b[0m\u001b[0;34m(\u001b[0m\u001b[0mcircuit\u001b[0m\u001b[0;34m.\u001b[0m\u001b[0moperations\u001b[0m\u001b[0;34m,\u001b[0m \u001b[0mrotations\u001b[0m\u001b[0;34m=\u001b[0m\u001b[0mcircuit\u001b[0m\u001b[0;34m.\u001b[0m\u001b[0mdiagonalizing_gates\u001b[0m\u001b[0;34m,\u001b[0m \u001b[0;34m**\u001b[0m\u001b[0mkwargs\u001b[0m\u001b[0;34m)\u001b[0m\u001b[0;34m\u001b[0m\u001b[0;34m\u001b[0m\u001b[0m\n\u001b[0m\u001b[1;32m    183\u001b[0m \u001b[0;34m\u001b[0m\u001b[0m\n\u001b[1;32m    184\u001b[0m         \u001b[0;31m# generate computational basis samples\u001b[0m\u001b[0;34m\u001b[0m\u001b[0;34m\u001b[0m\u001b[0;34m\u001b[0m\u001b[0m\n",
      "\u001b[0;32m~/anaconda3/envs/QC/lib/python3.7/site-packages/pennylane/devices/default_qubit.py\u001b[0m in \u001b[0;36mapply\u001b[0;34m(self, operations, rotations, **kwargs)\u001b[0m\n\u001b[1;32m    108\u001b[0m                 )\n\u001b[1;32m    109\u001b[0m \u001b[0;34m\u001b[0m\u001b[0m\n\u001b[0;32m--> 110\u001b[0;31m             \u001b[0mself\u001b[0m\u001b[0;34m.\u001b[0m\u001b[0m_apply_operation\u001b[0m\u001b[0;34m(\u001b[0m\u001b[0moperation\u001b[0m\u001b[0;34m)\u001b[0m\u001b[0;34m\u001b[0m\u001b[0;34m\u001b[0m\u001b[0m\n\u001b[0m\u001b[1;32m    111\u001b[0m \u001b[0;34m\u001b[0m\u001b[0m\n\u001b[1;32m    112\u001b[0m         \u001b[0;31m# store the pre-rotated state\u001b[0m\u001b[0;34m\u001b[0m\u001b[0;34m\u001b[0m\u001b[0;34m\u001b[0m\u001b[0m\n",
      "\u001b[0;32m~/anaconda3/envs/QC/lib/python3.7/site-packages/pennylane/devices/default_qubit.py\u001b[0m in \u001b[0;36m_apply_operation\u001b[0;34m(self, operation)\u001b[0m\n\u001b[1;32m    133\u001b[0m             \u001b[0;32mreturn\u001b[0m\u001b[0;34m\u001b[0m\u001b[0;34m\u001b[0m\u001b[0m\n\u001b[1;32m    134\u001b[0m \u001b[0;34m\u001b[0m\u001b[0m\n\u001b[0;32m--> 135\u001b[0;31m         \u001b[0mmatrix\u001b[0m \u001b[0;34m=\u001b[0m \u001b[0mself\u001b[0m\u001b[0;34m.\u001b[0m\u001b[0m_get_unitary_matrix\u001b[0m\u001b[0;34m(\u001b[0m\u001b[0moperation\u001b[0m\u001b[0;34m)\u001b[0m\u001b[0;34m\u001b[0m\u001b[0;34m\u001b[0m\u001b[0m\n\u001b[0m\u001b[1;32m    136\u001b[0m \u001b[0;34m\u001b[0m\u001b[0m\n\u001b[1;32m    137\u001b[0m         \u001b[0;32mif\u001b[0m \u001b[0misinstance\u001b[0m\u001b[0;34m(\u001b[0m\u001b[0moperation\u001b[0m\u001b[0;34m,\u001b[0m \u001b[0mDiagonalOperation\u001b[0m\u001b[0;34m)\u001b[0m\u001b[0;34m:\u001b[0m\u001b[0;34m\u001b[0m\u001b[0;34m\u001b[0m\u001b[0m\n",
      "\u001b[0;32m~/anaconda3/envs/QC/lib/python3.7/site-packages/pennylane/devices/default_qubit.py\u001b[0m in \u001b[0;36m_get_unitary_matrix\u001b[0;34m(self, unitary)\u001b[0m\n\u001b[1;32m    157\u001b[0m             \u001b[0;32mreturn\u001b[0m \u001b[0munitary\u001b[0m\u001b[0;34m.\u001b[0m\u001b[0meigvals\u001b[0m\u001b[0;34m\u001b[0m\u001b[0;34m\u001b[0m\u001b[0m\n\u001b[1;32m    158\u001b[0m \u001b[0;34m\u001b[0m\u001b[0m\n\u001b[0;32m--> 159\u001b[0;31m         \u001b[0;32mreturn\u001b[0m \u001b[0munitary\u001b[0m\u001b[0;34m.\u001b[0m\u001b[0mmatrix\u001b[0m\u001b[0;34m\u001b[0m\u001b[0;34m\u001b[0m\u001b[0m\n\u001b[0m\u001b[1;32m    160\u001b[0m \u001b[0;34m\u001b[0m\u001b[0m\n\u001b[1;32m    161\u001b[0m     \u001b[0;32mdef\u001b[0m \u001b[0m_create_basis_state\u001b[0m\u001b[0;34m(\u001b[0m\u001b[0mself\u001b[0m\u001b[0;34m,\u001b[0m \u001b[0mindex\u001b[0m\u001b[0;34m)\u001b[0m\u001b[0;34m:\u001b[0m\u001b[0;34m\u001b[0m\u001b[0;34m\u001b[0m\u001b[0m\n",
      "\u001b[0;32m~/anaconda3/envs/QC/lib/python3.7/site-packages/pennylane/operation.py\u001b[0m in \u001b[0;36mmatrix\u001b[0;34m(self)\u001b[0m\n\u001b[1;32m    658\u001b[0m     \u001b[0;34m@\u001b[0m\u001b[0mproperty\u001b[0m\u001b[0;34m\u001b[0m\u001b[0;34m\u001b[0m\u001b[0m\n\u001b[1;32m    659\u001b[0m     \u001b[0;32mdef\u001b[0m \u001b[0mmatrix\u001b[0m\u001b[0;34m(\u001b[0m\u001b[0mself\u001b[0m\u001b[0;34m)\u001b[0m\u001b[0;34m:\u001b[0m\u001b[0;34m\u001b[0m\u001b[0;34m\u001b[0m\u001b[0m\n\u001b[0;32m--> 660\u001b[0;31m         \u001b[0mop_matrix\u001b[0m \u001b[0;34m=\u001b[0m \u001b[0mself\u001b[0m\u001b[0;34m.\u001b[0m\u001b[0m_matrix\u001b[0m\u001b[0;34m(\u001b[0m\u001b[0;34m*\u001b[0m\u001b[0mself\u001b[0m\u001b[0;34m.\u001b[0m\u001b[0mparameters\u001b[0m\u001b[0;34m)\u001b[0m\u001b[0;34m\u001b[0m\u001b[0;34m\u001b[0m\u001b[0m\n\u001b[0m\u001b[1;32m    661\u001b[0m \u001b[0;34m\u001b[0m\u001b[0m\n\u001b[1;32m    662\u001b[0m         \u001b[0;32mif\u001b[0m \u001b[0mself\u001b[0m\u001b[0;34m.\u001b[0m\u001b[0minverse\u001b[0m\u001b[0;34m:\u001b[0m\u001b[0;34m\u001b[0m\u001b[0;34m\u001b[0m\u001b[0m\n",
      "\u001b[0;31mKeyboardInterrupt\u001b[0m: "
     ]
    }
   ],
   "source": [
    "opt = tf.keras.optimizers.SGD(learning_rate = 0.1)\n",
    "\n",
    "for i in range(20):\n",
    "    with tf.GradientTape() as tape:\n",
    "        loss = cost(params1, random_gate_sequence=gate_sequence, layers=layers, rho_target=rho_target, num_qubits=wires)\n",
    "\n",
    "    print(loss.numpy())\n",
    "    grad = tape.gradient(loss, [params1])\n",
    "    opt.apply_gradients(zip(grad, [params1]))"
   ]
  },
  {
   "cell_type": "markdown",
   "metadata": {},
   "source": [
    "## Sample from trained circuit"
   ]
  },
  {
   "cell_type": "code",
   "execution_count": 226,
   "metadata": {
    "ExecuteTime": {
     "end_time": "2020-10-28T12:39:20.832758Z",
     "start_time": "2020-10-28T12:39:20.765039Z"
    }
   },
   "outputs": [],
   "source": [
    "qcircuit_with_NN = qml.QNode(circuit_with_NN, dev2).to_tf()\n",
    "\n",
    "samples = qcircuit_with_NN(params1, random_gate_sequence=gate_sequence, layers=layers, rho_target=rho_target, num_qubits=wires)"
   ]
  },
  {
   "cell_type": "code",
   "execution_count": 227,
   "metadata": {
    "ExecuteTime": {
     "end_time": "2020-10-28T12:39:22.707525Z",
     "start_time": "2020-10-28T12:39:22.700392Z"
    }
   },
   "outputs": [],
   "source": [
    "samples =  tf.transpose(tf.cast(samples, tf.float64, name=None))"
   ]
  },
  {
   "cell_type": "code",
   "execution_count": 229,
   "metadata": {
    "ExecuteTime": {
     "end_time": "2020-10-28T12:39:27.486921Z",
     "start_time": "2020-10-28T12:39:27.476354Z"
    }
   },
   "outputs": [
    {
     "data": {
      "text/plain": [
       "<tf.Tensor: shape=(4, 4), dtype=float64, numpy=\n",
       "array([[0., 1., 0., 0.],\n",
       "       [0., 0., 1., 0.],\n",
       "       [0., 0., 0., 1.],\n",
       "       [1., 0., 0., 0.]])>"
      ]
     },
     "execution_count": 229,
     "metadata": {},
     "output_type": "execute_result"
    }
   ],
   "source": [
    "adjacency_matrix = np.zeros((wires, wires))\n",
    "adjacency_matrix[-1][0] = 1.0\n",
    "ones = np.ones(wires-1)\n",
    "off_diag = np.diag(ones, k=1)\n",
    "adjacency_matrix += off_diag\n",
    "tf.constant(adjacency_matrix, dtype=tf.float64)"
   ]
  },
  {
   "cell_type": "code",
   "execution_count": 230,
   "metadata": {
    "ExecuteTime": {
     "end_time": "2020-10-28T12:39:29.848945Z",
     "start_time": "2020-10-28T12:39:29.844626Z"
    }
   },
   "outputs": [],
   "source": [
    "def cost_from_sample(samples, coeffs, adjacency_matrix, index):\n",
    "    S = tf.transpose(samples)\n",
    "    B = tf.linalg.matvec(adjacency_matrix, S[:, 0])\n",
    "    A = samples[:,0]*coeffs\n",
    "    return tf.tensordot(A,B,1)"
   ]
  },
  {
   "cell_type": "code",
   "execution_count": 231,
   "metadata": {
    "ExecuteTime": {
     "end_time": "2020-10-28T12:39:31.169061Z",
     "start_time": "2020-10-28T12:39:31.163981Z"
    }
   },
   "outputs": [],
   "source": [
    "def cost_all_samples(samples, coeffs, adjacency_matrix):\n",
    "    A = tf.multiply(samples, coeffs)\n",
    "    B = tf.transpose(tf.linalg.matmul(adjacency_matrix, samples, transpose_b=True))\n",
    "    return tf.reduce_sum(tf.multiply(A,B), 1)"
   ]
  },
  {
   "cell_type": "code",
   "execution_count": 232,
   "metadata": {
    "ExecuteTime": {
     "end_time": "2020-10-28T12:39:32.804675Z",
     "start_time": "2020-10-28T12:39:32.797094Z"
    }
   },
   "outputs": [
    {
     "data": {
      "text/plain": [
       "<tf.Tensor: shape=(), dtype=float64, numpy=-1.2863729253194292>"
      ]
     },
     "execution_count": 232,
     "metadata": {},
     "output_type": "execute_result"
    }
   ],
   "source": [
    "E_list = cost_all_samples(samples, coeffs, adjacency_matrix)\n",
    "tf.math.reduce_mean(E_list)"
   ]
  },
  {
   "cell_type": "code",
   "execution_count": 240,
   "metadata": {
    "ExecuteTime": {
     "end_time": "2020-10-28T12:44:40.541436Z",
     "start_time": "2020-10-28T12:44:40.537752Z"
    }
   },
   "outputs": [],
   "source": [
    "tf.keras.backend.set_floatx(\"float64\")"
   ]
  },
  {
   "cell_type": "code",
   "execution_count": 241,
   "metadata": {
    "ExecuteTime": {
     "end_time": "2020-10-28T12:44:41.881649Z",
     "start_time": "2020-10-28T12:44:41.875327Z"
    }
   },
   "outputs": [],
   "source": [
    "clayer1 = tf.keras.layers.Dense(wires)\n",
    "clayer2 = tf.keras.layers.Dense(10, activation=\"relu\")\n",
    "clayer3 = tf.keras.layers.Dense(wires, activation=\"tanh\")\n",
    "model = tf.keras.models.Sequential([clayer1, clayer2, clayer3])"
   ]
  },
  {
   "cell_type": "code",
   "execution_count": 259,
   "metadata": {
    "ExecuteTime": {
     "end_time": "2020-10-28T12:49:00.145614Z",
     "start_time": "2020-10-28T12:49:00.141854Z"
    }
   },
   "outputs": [],
   "source": [
    "X = tf.constant(samples)\n",
    "opt = tf.keras.optimizers.SGD(learning_rate=0.5)"
   ]
  },
  {
   "cell_type": "markdown",
   "metadata": {},
   "source": [
    "## Train without Keras"
   ]
  },
  {
   "cell_type": "code",
   "execution_count": 265,
   "metadata": {
    "ExecuteTime": {
     "end_time": "2020-10-28T12:50:25.258148Z",
     "start_time": "2020-10-28T12:50:25.254060Z"
    }
   },
   "outputs": [],
   "source": [
    "def loss_NN(model, x):\n",
    "    out = model(x)\n",
    "    E = cost_all_samples(out, coeffs, adjacency_matrix)\n",
    "    return tf.reduce_mean(E)"
   ]
  },
  {
   "cell_type": "code",
   "execution_count": 276,
   "metadata": {
    "ExecuteTime": {
     "end_time": "2020-10-28T12:53:05.419327Z",
     "start_time": "2020-10-28T12:53:05.413917Z"
    }
   },
   "outputs": [],
   "source": [
    "def gradient(model, inputs):\n",
    "    with tf.GradientTape() as tape:\n",
    "        loss_value = loss_NN(model, inputs)\n",
    "    return loss_value, tape.gradient(loss_value, model.trainable_variables)"
   ]
  },
  {
   "cell_type": "code",
   "execution_count": 277,
   "metadata": {
    "ExecuteTime": {
     "end_time": "2020-10-28T12:53:09.101603Z",
     "start_time": "2020-10-28T12:53:09.079160Z"
    }
   },
   "outputs": [
    {
     "data": {
      "text/plain": [
       "(<tf.Tensor: shape=(), dtype=float64, numpy=-0.44720696542477345>,\n",
       " [<tf.Tensor: shape=(4, 4), dtype=float64, numpy=\n",
       "  array([[-0.32343723,  0.07281084, -0.33036798,  0.04938434],\n",
       "         [ 0.22881632, -0.04446044,  0.27512843, -0.04687224],\n",
       "         [-0.33334867,  0.1153197 , -0.28966985,  0.08015519],\n",
       "         [ 0.32665846, -0.1244555 ,  0.30972632, -0.08657577]])>,\n",
       "  <tf.Tensor: shape=(4,), dtype=float64, numpy=array([-0.27783322,  0.05450332, -0.4305782 ,  0.16331853])>,\n",
       "  <tf.Tensor: shape=(4, 10), dtype=float64, numpy=\n",
       "  array([[ 0.05860188, -0.02715119, -0.17546028, -0.05281407, -0.03674424,\n",
       "           0.05191329,  0.04007243,  0.00520784, -0.09204773, -0.02430526],\n",
       "         [-0.09705667,  0.03134304,  0.14824387, -0.0342199 , -0.0245758 ,\n",
       "           0.04417554, -0.00725921, -0.09318289,  0.13281213, -0.05017526],\n",
       "         [ 0.60854702, -0.16157831, -0.8146754 ,  0.13181464,  0.08595758,\n",
       "          -0.15043329,  0.05128077,  0.42783169, -0.74246866,  0.17053423],\n",
       "         [-1.38214206,  0.30846445,  1.72971749, -0.10215252, -0.0468374 ,\n",
       "           0.06286786, -0.15513201, -0.67186445,  1.54570395, -0.09141625]])>,\n",
       "  <tf.Tensor: shape=(10,), dtype=float64, numpy=\n",
       "  array([ 0.54136334, -0.13174421, -0.62395918,  0.06340051, -0.00686157,\n",
       "          0.07050253,  0.06365564,  0.22279611, -0.71971973, -0.02194085])>,\n",
       "  <tf.Tensor: shape=(10, 4), dtype=float64, numpy=\n",
       "  array([[ 0.03563537, -0.16063613,  0.03156521, -0.30407196],\n",
       "         [ 0.04613309, -0.34840893,  0.0294797 , -0.6212693 ],\n",
       "         [ 0.05767132, -0.05749013,  0.06346647, -0.13709842],\n",
       "         [-0.00995333, -0.00905802, -0.01259444, -0.01485068],\n",
       "         [-0.00557776, -0.0099962 , -0.00719242, -0.01656279],\n",
       "         [ 0.12898842,  0.1082424 ,  0.16590356,  0.17987362],\n",
       "         [ 0.06562062, -0.4489899 ,  0.04262488, -0.88853299],\n",
       "         [ 0.10111348, -0.64450864,  0.0664328 , -1.31044451],\n",
       "         [ 0.10489411, -0.74212893,  0.06849966, -1.41319437],\n",
       "         [ 0.04286577,  0.01335779,  0.0502601 ,  0.01753882]])>,\n",
       "  <tf.Tensor: shape=(4,), dtype=float64, numpy=array([ 0.13277672, -0.42373461,  0.12537516, -0.81597332])>])"
      ]
     },
     "execution_count": 277,
     "metadata": {},
     "output_type": "execute_result"
    }
   ],
   "source": [
    "loss(model, X)\n",
    "gradient(model, X)"
   ]
  },
  {
   "cell_type": "code",
   "execution_count": 281,
   "metadata": {
    "ExecuteTime": {
     "end_time": "2020-10-28T12:54:11.798368Z",
     "start_time": "2020-10-28T12:54:09.416489Z"
    }
   },
   "outputs": [
    {
     "name": "stdout",
     "output_type": "stream",
     "text": [
      "-2.5314801175632424\n",
      "-2.533488911528403\n",
      "-2.53545918921286\n",
      "-2.537405643263299\n",
      "-2.539314565937717\n",
      "-2.5411952792629466\n",
      "-2.5430404541667553\n",
      "-2.5448579464721752\n",
      "-2.54664285463876\n",
      "-2.548399563983671\n",
      "-2.550127475792094\n",
      "-2.551825755762027\n",
      "-2.5534994100380706\n",
      "-2.5551420812789303\n",
      "-2.5567621200985626\n",
      "-2.558355271750562\n",
      "-2.5599222607048517\n",
      "-2.561467017905028\n",
      "-2.5629858918998925\n",
      "-2.5644817627491237\n",
      "-2.565956056003377\n",
      "-2.567406501098795\n",
      "-2.568835142798404\n",
      "-2.570243678902453\n",
      "-2.5716309941175597\n",
      "-2.5729960709674375\n",
      "-2.5743431794140514\n",
      "-2.5756706434473733\n",
      "-2.576978577126371\n",
      "-2.5782667268049435\n",
      "-2.579538008495969\n",
      "-2.580791308613996\n",
      "-2.5820270167280333\n",
      "-2.5832448614232297\n",
      "-2.584445998176826\n",
      "-2.585631313686449\n",
      "-2.5868004831992564\n",
      "-2.58795384564832\n",
      "-2.5890917306692747\n",
      "-2.5902141679302644\n",
      "-2.5913212098705256\n",
      "-2.5924118757799035\n",
      "-2.5934883973098475\n",
      "-2.5945510578754627\n",
      "-2.595600133320739\n",
      "-2.596635892150477\n",
      "-2.5976585957550347\n",
      "-2.5986684986282267\n",
      "-2.5996658485784256\n",
      "-2.6006508869330864\n",
      "-2.6016238487367818\n",
      "-2.602584962943044\n",
      "-2.603534452600077\n",
      "-2.6044725350306095\n",
      "-2.6053994220058483\n",
      "-2.6063153199140343\n",
      "-2.60722042992345\n",
      "-2.608114948140218\n",
      "-2.6089990657609095\n",
      "-2.609872969220403\n",
      "-2.610736840334688\n",
      "-2.6115908564392583\n",
      "-2.6124351905228487\n",
      "-2.6132700113569016\n",
      "-2.614095483620793\n",
      "-2.6149117680230067\n",
      "-2.6157190214182764\n",
      "-2.6165173969210427\n",
      "-2.6173070440150923\n",
      "-2.6180881086597463\n",
      "-2.618860733392456\n",
      "-2.6196250574282245\n",
      "-2.6203812167556797\n",
      "-2.6211293442300883\n",
      "-2.6218695696633203\n",
      "-2.6226020199109663\n",
      "-2.623326818956548\n",
      "-2.62404514294098\n",
      "-2.624759889774459\n",
      "-2.62548690272996\n",
      "-2.6262067828223263\n",
      "-2.6269196346707284\n",
      "-2.6276255604877665\n",
      "-2.62832466015134\n",
      "-2.6290170312741794\n",
      "-2.629702769271346\n",
      "-2.6303819674254756\n",
      "-2.6310547169500205\n",
      "-2.6317211070504607\n",
      "-2.632381224983651\n",
      "-2.6330351561152705\n",
      "-2.633682983975382\n",
      "-2.6343247903123728\n",
      "-2.6349606551450955\n",
      "-2.6355906568134024\n",
      "-2.63621487202705\n",
      "-2.636833375913087\n",
      "-2.6374462420617544\n",
      "-2.63805354257087\n",
      "-2.638655348088884\n",
      "-2.6392517278564784\n",
      "-2.639842749746983\n",
      "-2.6404284803053124\n",
      "-2.6410089847858864\n",
      "-2.641584327189113\n",
      "-2.6421545702969587\n",
      "-2.6427197757071346\n",
      "-2.6432800038663857\n",
      "-2.643835314102599\n",
      "-2.6443857646559628\n",
      "-2.6449314127090693\n",
      "-2.6454723144160743\n",
      "-2.646008524930955\n",
      "-2.646540098434805\n",
      "-2.647067088162261\n",
      "-2.647589546427174\n",
      "-2.648107524647275\n",
      "-2.6486210733682403\n",
      "-2.649130242286868\n",
      "-2.6496350802734665\n",
      "-2.650135635393706\n",
      "-2.65063195492954\n",
      "-2.651124085399608\n",
      "-2.6516120725788843\n",
      "-2.6520959615178077\n",
      "-2.652575796560639\n",
      "-2.6530516213633537\n",
      "-2.6535234789108877\n",
      "-2.6539914115338408\n",
      "-2.6544554609246513\n",
      "-2.654915668153246\n",
      "-2.655372073682126\n",
      "-2.655824717381105\n",
      "-2.6562736385413723\n",
      "-2.656718875889309\n",
      "-2.6571604675996894\n",
      "-2.657598451308543\n",
      "-2.658032864125583\n",
      "-2.6584637426462834\n",
      "-2.6588911229633974\n",
      "-2.6593150406783734\n",
      "-2.659735530912151\n",
      "-2.66015262831575\n",
      "-2.6605663670805337\n",
      "-2.6609767809480083\n",
      "-2.6613839032194866\n",
      "-2.6617877667653\n",
      "-2.6621884040338264\n",
      "-2.662585847060124\n",
      "-2.662980127474417\n",
      "-2.6633712765102233\n",
      "-2.66375932501223\n",
      "-2.664144303443994\n",
      "-2.6645262418953233\n",
      "-2.664905170089486\n",
      "-2.6652811173901427\n",
      "-2.6656541128081392\n",
      "-2.6660241850080264\n",
      "-2.6663913623144135\n",
      "-2.6667556727181236\n",
      "-2.6671171438821544\n",
      "-2.667475803147484\n",
      "-2.6678316775386883\n",
      "-2.6681847937693592\n",
      "-2.6685351782474767\n",
      "-2.668882857080467\n",
      "-2.669227856080235\n",
      "-2.669570200768023\n",
      "-2.6699099163790643\n",
      "-2.670247027867259\n",
      "-2.6705815599095186\n",
      "-2.6709135369101573\n",
      "-2.6712429830050906\n",
      "-2.671569922065924\n",
      "-2.6718943777039295\n",
      "-2.6722163732739057\n",
      "-2.672535931878012\n",
      "-2.6728530763693805\n",
      "-2.6731678293557355\n",
      "-2.6734802132028577\n",
      "-2.673790250038057\n",
      "-2.6740979617533567\n",
      "-2.674403370008849\n",
      "-2.6747065472107145\n",
      "-2.6750075633054258\n",
      "-2.675306343080697\n",
      "-2.6756029217388466\n",
      "-2.675899428546495\n",
      "-2.676193717757081\n",
      "-2.6764858104734257\n",
      "-2.6767757275608672\n",
      "-2.677063489650838\n",
      "-2.6773491171443777\n",
      "-2.6776326302154647\n",
      "-2.677914048814382\n",
      "-2.678193392670937\n",
      "-2.678470681297564\n",
      "-2.678745933992485\n",
      "-2.6790191698426344\n",
      "-2.6792904077266284\n",
      "-2.6795596663176684\n",
      "-2.679826964086268\n",
      "-2.6800923193030344\n",
      "-2.680355750041383\n",
      "-2.680617274180073\n",
      "-2.6808769094058595\n",
      "-2.6811346732159693\n",
      "-2.6813905829205433\n",
      "-2.681644655645087\n",
      "-2.6818969083327837\n",
      "-2.6821473577468695\n",
      "-2.682396020472853\n",
      "-2.682642912920757\n",
      "-2.6828880513272853\n",
      "-2.6831314517580145\n",
      "-2.6833731301094077\n",
      "-2.6836131021109915\n",
      "-2.683851383327281\n",
      "-2.6840879891598237\n",
      "-2.6843229348491575\n",
      "-2.6845562354767023\n",
      "-2.68478790596666\n",
      "-2.6850179610879032\n",
      "-2.6852464154557567\n",
      "-2.6854732835338244\n",
      "-2.685698579635748\n",
      "-2.6859223179269396\n",
      "-2.6861445124262917\n",
      "-2.686365177007922\n",
      "-2.686584325402727\n",
      "-2.686801971200109\n",
      "-2.6870181278495613\n",
      "-2.687232808662201\n",
      "-2.6874460268124385\n",
      "-2.687657795339428\n",
      "-2.6878681271486182\n",
      "-2.6880770350132743\n",
      "-2.6882845315759076\n",
      "-2.688490629349767\n",
      "-2.688695340720287\n",
      "-2.6888986779464603\n",
      "-2.689100653162264\n",
      "-2.6893012783780663\n",
      "-2.6895005654819144\n",
      "-2.689698526240975\n",
      "-2.689895172302777\n",
      "-2.690090515196572\n",
      "-2.690284566334602\n",
      "-2.690477337013425\n",
      "-2.690668838415084\n",
      "-2.690859081608447\n",
      "-2.6910480775504024\n",
      "-2.691235837087059\n",
      "-2.691422370954961\n",
      "-2.6916076897822743\n",
      "-2.6917918040899607\n",
      "-2.6919747242929573\n",
      "-2.6921564607012716\n",
      "-2.6923370235211443\n",
      "-2.6925164228561864\n",
      "-2.692694668708432\n",
      "-2.692871770979502\n",
      "-2.693047739471613\n",
      "-2.693222583888675\n",
      "-2.693396313837372\n",
      "-2.6935689388281725\n",
      "-2.693740468276351\n",
      "-2.6939109115030733\n",
      "-2.6940802777363206\n",
      "-2.6942485761119253\n",
      "-2.6944158156746014\n",
      "-2.694582005378827\n",
      "-2.694747154089906\n",
      "-2.6949112705848215\n",
      "-2.695074363553286\n",
      "-2.695236441598594\n",
      "-2.6953975132385826\n",
      "-2.6955575869065225\n",
      "-2.6957166709520335\n",
      "-2.6958747736419864\n",
      "-2.6960319031613826\n",
      "-2.6961880676141883\n",
      "-2.6963432750242653\n",
      "-2.6964975333361716\n",
      "-2.6966508504160283\n",
      "-2.696803234052356\n",
      "-2.696954691956902\n",
      "-2.6971052317654456\n",
      "-2.697254861038645\n",
      "-2.697403587262775\n",
      "-2.6975514178505757\n",
      "-2.697698360142001\n",
      "-2.6978444214050272\n",
      "-2.697989608836365\n",
      "-2.698133929562291\n",
      "-2.698277390639339\n",
      "-2.698419999055057\n",
      "-2.698561761728758\n",
      "-2.6987026855122194\n",
      "-2.6988427771904444\n",
      "-2.6989820434822978\n",
      "-2.6991204910413\n",
      "-2.699258126456257\n",
      "-2.699394956251955\n",
      "-2.6995309868898736\n",
      "-2.6996662247688463\n",
      "-2.699800676225707\n",
      "-2.6999343475359456\n",
      "-2.700067244914392\n",
      "-2.700199374515856\n",
      "-2.7003307424357237\n",
      "-2.7004613547106384\n",
      "-2.700591217319092\n",
      "-2.7007203361820458\n",
      "-2.7008487171635696\n",
      "-2.700976366071391\n",
      "-2.7011032886575603\n",
      "-2.701229490618975\n",
      "-2.7013549775980183\n",
      "-2.701479755183087\n",
      "-2.701603828909217\n",
      "-2.7017273778882274\n",
      "-2.701852676566056\n",
      "-2.7019772462915537\n",
      "-2.702101093006013\n",
      "-2.702224222591054\n",
      "-2.7023466408692762\n",
      "-2.702468353604902\n",
      "-2.70258936650443\n",
      "-2.702709685572024\n",
      "-2.702829318999037\n",
      "-2.702948269308871\n",
      "-2.703066541984425\n",
      "-2.703184142453948\n",
      "-2.7033010760916745\n",
      "-2.703417348218388\n",
      "-2.703532964102058\n",
      "-2.703647928958351\n",
      "-2.7037622479513095\n",
      "-2.7038759261938092\n",
      "-2.703988968748232\n",
      "-2.7041013806269665\n",
      "-2.7042131667929286\n",
      "-2.7043243321601995\n",
      "-2.704434881594515\n",
      "-2.704544819913769\n",
      "-2.7046541518886187\n",
      "-2.704762882242932\n",
      "-2.704871015654349\n",
      "-2.7049785567547877\n",
      "-2.7050855101309543\n",
      "-2.7051918803248163\n",
      "-2.705297671834117\n",
      "-2.705402889112891\n",
      "-2.7055075365718912\n",
      "-2.7056116185790917\n",
      "-2.7057151394601737\n",
      "-2.705818103498983\n",
      "-2.705920514938007\n",
      "-2.706022377978802\n",
      "-2.7061236967824405\n",
      "-2.7062244754699996\n",
      "-2.706324718122987\n",
      "-2.7064244287837242\n",
      "-2.70652361407199\n",
      "-2.7066223722162848\n",
      "-2.7067206113454683\n",
      "-2.7068183353479642\n",
      "-2.7069155480751332\n",
      "-2.707012253341772\n",
      "-2.7071084549263786\n",
      "-2.707204156571699\n",
      "-2.707299361984996\n",
      "-2.707394074838515\n",
      "-2.7074882987697997\n",
      "-2.707582037382152\n",
      "-2.707675294244944\n",
      "-2.7077680728940168\n",
      "-2.707860376832029\n",
      "-2.707952209528844\n",
      "-2.708043574421856\n",
      "-2.708134474916383\n",
      "-2.7082249143859776\n",
      "-2.708314896172767\n",
      "-2.7084044235878695\n",
      "-2.7084934999116013\n",
      "-2.7085821283939757\n",
      "-2.708670312254866\n",
      "-2.708758054684442\n",
      "-2.708845358843463\n",
      "-2.7089322278635635\n",
      "-2.7090186648476267\n",
      "-2.7091046728700285\n",
      "-2.70919025497701\n",
      "-2.709275414186928\n",
      "-2.70936015349058\n",
      "-2.709444475851513\n",
      "-2.709528384206278\n",
      "-2.7096118814647556\n",
      "-2.709694970510421\n",
      "-2.7097776542006233\n",
      "-2.7098599353669144\n",
      "-2.7099418168152343\n",
      "-2.7100233013262898\n",
      "-2.7101043916557193\n",
      "-2.710185090534434\n",
      "-2.7102654006688636\n",
      "-2.710345324741191\n",
      "-2.710424835987933\n",
      "-2.7105037600079167\n",
      "-2.7105823068723462\n",
      "-2.710660479178749\n",
      "-2.710738279501518\n",
      "-2.7108157103921657\n",
      "-2.7108927743795475\n",
      "-2.7109694739701053\n",
      "-2.7110458116481415\n",
      "-2.711121789875985\n",
      "-2.7111974110942882\n",
      "-2.711272677722206\n",
      "-2.7113475921576553\n",
      "-2.711422156777525\n",
      "-2.7114963739378752\n",
      "-2.711570245974197\n",
      "-2.711643775201609\n",
      "-2.7117169639150323\n",
      "-2.711789814389493\n",
      "-2.7118623288802075\n",
      "-2.7119345096229113\n",
      "-2.712006358833961\n",
      "-2.7120778787106046\n",
      "-2.7121490714311345\n",
      "-2.7122199391551294\n",
      "-2.7122904840235806\n",
      "-2.712360708159166\n",
      "-2.7124306136663643\n",
      "-2.7125002026316896\n",
      "-2.712569477123864\n",
      "-2.7126384391939946\n",
      "-2.7127070908757567\n",
      "-2.7127754341855623\n",
      "-2.712843471122784\n",
      "-2.712911203669846\n"
     ]
    },
    {
     "name": "stdout",
     "output_type": "stream",
     "text": [
      "-2.7129786337924853\n",
      "-2.7130457634398497\n",
      "-2.7131125945447225\n",
      "-2.713179129023647\n",
      "-2.7132453687771165\n",
      "-2.7133113156897233\n",
      "-2.7133769716303515\n",
      "-2.713442338452258\n",
      "-2.713507417993342\n",
      "-2.7135722120762047\n",
      "-2.7136367225083284\n",
      "-2.7137009510822807\n",
      "-2.713764899575799\n",
      "-2.7138285697519566\n",
      "-2.7138919633593215\n",
      "-2.7139550821321254\n",
      "-2.7140179277903265\n",
      "-2.714080502039849\n",
      "-2.714142806572643\n",
      "-2.714204843066883\n",
      "-2.714266613187081\n",
      "-2.714328118584188\n",
      "-2.714389360895809\n",
      "-2.714450405080248\n",
      "-2.7145115726382247\n",
      "-2.714572481451093\n",
      "-2.71463313308827\n",
      "-2.7146935291065826\n",
      "-2.7147536710503726\n",
      "-2.7148135604516157\n",
      "-2.7148731988300443\n",
      "-2.7149325876932835\n",
      "-2.714991728536939\n",
      "-2.7150506228447386\n",
      "-2.7151092720886854\n",
      "-2.7151676777290685\n",
      "-2.715225841214701\n",
      "-2.715283763982942\n",
      "-2.715341447459878\n",
      "-2.7153988930603377\n",
      "-2.7154561021881283\n",
      "-2.715513076236046\n",
      "-2.7155698165860063\n",
      "-2.715626324609172\n",
      "-2.715682601666042\n",
      "-2.7157386491065645\n",
      "-2.715794468270201\n",
      "-2.715850060486103\n",
      "-2.7159054270731238\n",
      "-2.715960569340009\n",
      "-2.7160154885853856\n",
      "-2.716070186097961\n",
      "-2.7161246631565836\n",
      "-2.7161789210303096\n",
      "-2.7162329609785134\n",
      "-2.7162867842510114\n",
      "-2.7163403920880955\n"
     ]
    }
   ],
   "source": [
    "optimizer = tf.keras.optimizers.SGD(learning_rate=0.01)\n",
    "\n",
    "for i in range(500):\n",
    "    loss_value, grads = gradient(model, X)\n",
    "    optimizer.apply_gradients(zip(grads, model.trainable_variables))\n",
    "    print(loss_value.numpy())"
   ]
  },
  {
   "cell_type": "code",
   "execution_count": 282,
   "metadata": {
    "ExecuteTime": {
     "end_time": "2020-10-28T12:54:23.891758Z",
     "start_time": "2020-10-28T12:54:23.876400Z"
    }
   },
   "outputs": [
    {
     "data": {
      "text/plain": [
       "<tf.Tensor: shape=(1000, 4), dtype=float64, numpy=\n",
       "array([[-0.99999974,  0.99999966, -0.99999972,  0.99999995],\n",
       "       [-0.99999974,  0.99999966, -0.99999972,  0.99999995],\n",
       "       [-0.99999974,  0.99999966, -0.99999972,  0.99999995],\n",
       "       ...,\n",
       "       [ 0.99747462, -0.9968383 ,  0.99639679, -0.99686883],\n",
       "       [ 0.98977137, -0.98835394,  0.99299741, -0.99299744],\n",
       "       [-0.99999974,  0.99999966, -0.99999972,  0.99999995]])>"
      ]
     },
     "execution_count": 282,
     "metadata": {},
     "output_type": "execute_result"
    }
   ],
   "source": [
    "model(X)"
   ]
  }
 ],
 "metadata": {
  "kernelspec": {
   "display_name": "Python 3",
   "language": "python",
   "name": "python3"
  },
  "language_info": {
   "codemirror_mode": {
    "name": "ipython",
    "version": 3
   },
   "file_extension": ".py",
   "mimetype": "text/x-python",
   "name": "python",
   "nbconvert_exporter": "python",
   "pygments_lexer": "ipython3",
   "version": "3.7.6"
  },
  "toc": {
   "base_numbering": 1,
   "nav_menu": {},
   "number_sections": true,
   "sideBar": true,
   "skip_h1_title": false,
   "title_cell": "Table of Contents",
   "title_sidebar": "Contents",
   "toc_cell": false,
   "toc_position": {},
   "toc_section_display": true,
   "toc_window_display": false
  },
  "varInspector": {
   "cols": {
    "lenName": 16,
    "lenType": 16,
    "lenVar": 40
   },
   "kernels_config": {
    "python": {
     "delete_cmd_postfix": "",
     "delete_cmd_prefix": "del ",
     "library": "var_list.py",
     "varRefreshCmd": "print(var_dic_list())"
    },
    "r": {
     "delete_cmd_postfix": ") ",
     "delete_cmd_prefix": "rm(",
     "library": "var_list.r",
     "varRefreshCmd": "cat(var_dic_list()) "
    }
   },
   "types_to_exclude": [
    "module",
    "function",
    "builtin_function_or_method",
    "instance",
    "_Feature"
   ],
   "window_display": false
  }
 },
 "nbformat": 4,
 "nbformat_minor": 4
}
